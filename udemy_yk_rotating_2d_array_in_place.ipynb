{
 "cells": [
  {
   "cell_type": "code",
   "execution_count": 4,
   "metadata": {
    "collapsed": true
   },
   "outputs": [],
   "source": [
    "def to_string(given_array):\n",
    "    list_rows = []\n",
    "    \n",
    "    for row in given_array:\n",
    "        list_rows.append(str(row))\n",
    "        \n",
    "    return('[' + ',\\n ' .join(list_rows) + ']')"
   ]
  },
  {
   "cell_type": "code",
   "execution_count": 2,
   "metadata": {
    "collapsed": true
   },
   "outputs": [],
   "source": [
    "def rotate_sub(i,j,n):\n",
    "    return((j,n-1-i))"
   ]
  },
  {
   "cell_type": "code",
   "execution_count": 30,
   "metadata": {
    "collapsed": true
   },
   "outputs": [],
   "source": [
    "import math\n",
    "def rotate_in_place(given_array,n):\n",
    "    \n",
    "    print(given_array)\n",
    "    #The 2 for loops below will select the appropriate square sub matrix to rotate in case of even n or an \n",
    "    #appropriate rectangular sub matrix to rotate in case of odd n\n",
    "    for i in range(math.ceil(n/2)):\n",
    "        for j in range(math.floor(n/2)):\n",
    "            temp = [-1] * 4 #This array will be used to temporarily store the 4 values we'll be shuffling around\n",
    "\n",
    "            (current_i, current_j) = (i,j) #This sets the position to the item in the matrix we'll be starting at i.e [0,0]\n",
    "            \n",
    "            for k in range(4): #This for loop will store the 4 items we will shuffle in the temp array\n",
    "                temp[k] = given_array[current_i][current_j]\n",
    "                (current_i,current_j) = rotate_sub(current_i,current_j,n)\n",
    "                \n",
    "            for k in range(4): #This for loop is for putting each correct value from temp at the correct postion  \n",
    "                given_array[current_i][current_j] = temp[(k-1) % 4]\n",
    "                (current_i,current_j) = rotate_sub(current_i,current_j,n)\n",
    "                \n",
    "    return(given_array)"
   ]
  },
  {
   "cell_type": "code",
   "execution_count": 31,
   "metadata": {
    "collapsed": false
   },
   "outputs": [
    {
     "name": "stdout",
     "output_type": "stream",
     "text": [
      "[[1, 2, 3], [4, 5, 6], [7, 8, 9]]\n",
      "[[7, 4, 1],\n",
      " [8, 5, 2],\n",
      " [9, 6, 3]]\n"
     ]
    }
   ],
   "source": [
    "a1 = [[1, 2, 3],\n",
    "      [4, 5, 6],\n",
    "      [7, 8, 9]]\n",
    "\n",
    "result = rotate_in_place(a1,3)\n",
    "print(to_string(result))"
   ]
  },
  {
   "cell_type": "code",
   "execution_count": null,
   "metadata": {
    "collapsed": true
   },
   "outputs": [],
   "source": []
  }
 ],
 "metadata": {
  "kernelspec": {
   "display_name": "Python [conda env:py35]",
   "language": "python",
   "name": "conda-env-py35-py"
  },
  "language_info": {
   "codemirror_mode": {
    "name": "ipython",
    "version": 3
   },
   "file_extension": ".py",
   "mimetype": "text/x-python",
   "name": "python",
   "nbconvert_exporter": "python",
   "pygments_lexer": "ipython3",
   "version": "3.5.2"
  }
 },
 "nbformat": 4,
 "nbformat_minor": 1
}
