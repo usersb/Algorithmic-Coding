{
 "cells": [
  {
   "cell_type": "code",
   "execution_count": 78,
   "metadata": {
    "collapsed": true
   },
   "outputs": [],
   "source": [
    "mov_lens = [120,30,90,40,110,30,120,20] #true\n",
    "#mov_lens = [30,60] \n",
    "#mov_lens = [60] \n",
    "\n",
    "#mov_lens = [120,30] false\n",
    "#mov_lens = [120,0] false\n",
    "#mov_lens = [60,60] true\n",
    "#mov_lens = [30,30,30,30] false\n",
    "#mov_lens = [] False"
   ]
  },
  {
   "cell_type": "code",
   "execution_count": 71,
   "metadata": {
    "collapsed": false
   },
   "outputs": [],
   "source": [
    "\n",
    "# O(n^2) time function\n",
    "def calc(fl_len,mov_lens):\n",
    "    \n",
    "    apt_mov_lens = False\n",
    "    \n",
    "    for index,mov_len in enumerate(mov_lens):\n",
    "        \n",
    "        if fl_len > mov_len:\n",
    "            sec_mov_len = fl_len - mov_len\n",
    "            \n",
    "            new_index = index + 1\n",
    "            \n",
    "            if new_index < len(mov_lens)-1:\n",
    "                mov_lens_len = len(mov_lens)-1\n",
    "            else:\n",
    "                mov_lens_len = len(mov_lens)\n",
    "                \n",
    "            for i in range(new_index,mov_lens_len):\n",
    "                if mov_lens[i] == sec_mov_len:\n",
    "                    apt_mov_lens = True\n",
    "                    break\n",
    "        else:\n",
    "            continue\n",
    "    \n",
    "    return apt_mov_lens\n",
    "                    "
   ]
  },
  {
   "cell_type": "code",
   "execution_count": 74,
   "metadata": {
    "collapsed": false
   },
   "outputs": [
    {
     "name": "stdout",
     "output_type": "stream",
     "text": [
      "False\n"
     ]
    }
   ],
   "source": [
    "flight_len = 120\n",
    "\n",
    "movies_exist = calc(flight_len,mov_lens)\n",
    "print(movies_exist)"
   ]
  },
  {
   "cell_type": "code",
   "execution_count": 76,
   "metadata": {
    "collapsed": true
   },
   "outputs": [],
   "source": [
    "# We should be able to do better than O(n^2)time. The trick is to use a set for checking for a matching movie len in \n",
    "#O(1) time\n",
    "#O(n) time function \n",
    "\n",
    "def calc_order_of_n(fl_len,mov_lens):\n",
    "    \n",
    "    #Movie lengths we've seen so far\n",
    "    mov_len_seen = set()\n",
    "    \n",
    "    for first_mov_len in mov_lens:\n",
    "        \n",
    "        second_matching_mov_len = fl_len - first_mov_len\n",
    "        \n",
    "        if second_matching_mov_len in mov_len_seen:\n",
    "            return True\n",
    "        else:\n",
    "            mov_len_seen.add(first_mov_len)\n",
    "            \n",
    "    return False"
   ]
  },
  {
   "cell_type": "code",
   "execution_count": 79,
   "metadata": {
    "collapsed": false
   },
   "outputs": [
    {
     "name": "stdout",
     "output_type": "stream",
     "text": [
      "True\n"
     ]
    }
   ],
   "source": [
    "flight_len = 120\n",
    "\n",
    "movies_exist = calc_order_of_n(flight_len,mov_lens)\n",
    "print(movies_exist)"
   ]
  },
  {
   "cell_type": "code",
   "execution_count": null,
   "metadata": {
    "collapsed": true
   },
   "outputs": [],
   "source": []
  }
 ],
 "metadata": {
  "anaconda-cloud": {},
  "kernelspec": {
   "display_name": "Python [conda env:py35]",
   "language": "python",
   "name": "conda-env-py35-py"
  },
  "language_info": {
   "codemirror_mode": {
    "name": "ipython",
    "version": 3
   },
   "file_extension": ".py",
   "mimetype": "text/x-python",
   "name": "python",
   "nbconvert_exporter": "python",
   "pygments_lexer": "ipython3",
   "version": "3.5.2"
  }
 },
 "nbformat": 4,
 "nbformat_minor": 1
}
