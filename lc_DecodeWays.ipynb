{
 "cells": [
  {
   "cell_type": "code",
   "execution_count": 1,
   "metadata": {
    "collapsed": true
   },
   "outputs": [],
   "source": [
    "def numDecodings(s):\n",
    "    if s[0] == '0':\n",
    "        print(s[0])\n",
    "        return 0\n",
    "    \n",
    "    for i in range(1, len(s)):\n",
    "        print(\"i= %d and s[i]=%s\" %(i, s[i]))\n",
    "        \n",
    "    dp = [1, 1]\n",
    "        \n",
    "    for i in range(1, len(s)):\n",
    "        dp.append(0)\n",
    "        print(\"dp=%s\" %dp)\n",
    "        print(\"s[i]= %s\" %s[i])\n",
    "        \n",
    "        if '1' <= s[i] <= '9':\n",
    "            print(\"dp[-1]=%s\" %dp[-1])\n",
    "            print(\"dp[-2]=%s\" %dp[-2])\n",
    "            dp[-1] += dp[-2]\n",
    "            print(\"updated dp[-1]=%s\" %dp[-1])\n",
    "            \n",
    "        if '10' <= s[i-1:i+1] <= '26':\n",
    "            print(\"s[i-1:i+1]=%s\" %s[i-1:i+1])\n",
    "            \n",
    "            dp[-1] += dp[-3]\n",
    "            print(\"updated dp[-1]=%s\" %dp[-1])\n",
    "            print(\"updated dp=%s\" %dp)\n",
    "            \n",
    "    return dp[-1]"
   ]
  },
  {
   "cell_type": "code",
   "execution_count": 2,
   "metadata": {
    "collapsed": false
   },
   "outputs": [
    {
     "name": "stdout",
     "output_type": "stream",
     "text": [
      "i= 1 and s[i]=2\n",
      "dp=[1, 1, 0]\n",
      "s[i]= 2\n",
      "dp[-1]=0\n",
      "dp[-2]=1\n",
      "updated dp[-1]=1\n",
      "s[i-1:i+1]=12\n",
      "updated dp[-1]=2\n",
      "updated dp=[1, 1, 2]\n",
      "2\n"
     ]
    }
   ],
   "source": [
    "s='12'\n",
    "print(numDecodings(s))"
   ]
  },
  {
   "cell_type": "code",
   "execution_count": 3,
   "metadata": {
    "collapsed": true
   },
   "outputs": [],
   "source": [
    "def numdecodings(s):\n",
    "    if s[0] == '0':\n",
    "        return 0\n",
    "    \n",
    "    dp = [1,1]\n",
    "    \n",
    "    for i in range(1,len(s)):\n",
    "        dp.append(0)\n",
    "        \n",
    "        if '1' <= s[i] <= '9':\n",
    "            dp[-1] += dp[-2]\n",
    "            \n",
    "        if '10' <= s[i-1:i+1] <='26':\n",
    "            dp[-1] += dp[-3]\n",
    "            \n",
    "    return dp[-1]"
   ]
  },
  {
   "cell_type": "code",
   "execution_count": 4,
   "metadata": {
    "collapsed": false
   },
   "outputs": [
    {
     "name": "stdout",
     "output_type": "stream",
     "text": [
      "3\n"
     ]
    }
   ],
   "source": [
    "s1='226'\n",
    "print(numdecodings(s1))"
   ]
  },
  {
   "cell_type": "code",
   "execution_count": null,
   "metadata": {
    "collapsed": true
   },
   "outputs": [],
   "source": [
    "#Python O(n)/O(1) DP solution\n",
    "def numDecodings(self, s):\n",
    "        \"\"\"\n",
    "        :type s: str\n",
    "        :rtype: int\n",
    "        \"\"\"\n",
    "        \n",
    "    dp0 = 1\n",
    "    dp1 = 1 if int(s[0]) != 0 else 0\n",
    "        \n",
    "    for i in range(1, len(s)):\n",
    "        val = 0\n",
    "        if int(s[i]) != 0:\n",
    "            val += dp1\n",
    "        if int(s[i-1: i+1]) in range(10, 27):\n",
    "            val += dp0\n",
    "        dp0 = dp1\n",
    "        dp1 = val\n",
    "        \n",
    "    return dp1"
   ]
  },
  {
   "cell_type": "code",
   "execution_count": null,
   "metadata": {
    "collapsed": true
   },
   "outputs": [],
   "source": [
    "\"\"\"\n",
    "i/p\n",
    "s1='12'\n",
    "\n",
    "o/p\n",
    "\"AB\" = (1 2) or \"L\" = (12)\n",
    "\n",
    "i=0 s[0] = '1'\n",
    "\n",
    "i = 1 s[1] = '2'\n",
    "\n",
    "Condition 1:\n",
    "\n",
    "If a given digit at index i makes a number between [1, 9] then number of ways to decode string [0: i] would include \n",
    "number of ways to decode [0: i - 1] string. If given digit is 0 then it doesn't correspond to any valid letter.\n",
    "\n",
    "Condition 2:\n",
    "\n",
    "If given digits at index i and previous digit at i - 1 make a number which is less than 27 and greater than 9, \n",
    "then number of ways to decode string [0: i] would also include number of ways to decode [0: i - 2]. \n",
    "If two digits are less than 10 i.e. 09, 05, we can not take it as valid encoding as no such encoding exists in \n",
    "encoding map for letters to numbers.\n",
    "\n",
    "Scenario 0:\n",
    "\n",
    "If first digit is 0 it means encoding is invalid as 0 doesn't correspond to any letter and there is no digit before 0.\n",
    "But we don't need to handle this case because when we'll move to next character, number of ways to decode [0: i - 1] \n",
    "would already be 0 and number of ways to to decode [0: i - 2] would not taken into consideration as previous digit is \n",
    "0 and '0X' doesn't correspond to any letter. So number of ways for this next digit would also be zero and so on. \n",
    "So if a digit is zero and it has zero number of ways to decode then this zero propagates to all furthur calculations \n",
    "and we get zero answer eventually\n",
    "\n",
    "Scenario 00:\n",
    "\n",
    "If two consecutive digits are 0 at index i and i + 1 in the middle of encoded string then it's also an invalid encoding.\n",
    "The number of ways for string [0: i] could be non-zero, but for 0 at index i + 1, Condition 1 and Condition 2 \n",
    "(Because previous digit is zero as well) would not fulfil so that's why Number of ways for string [0: i + 1] would be \n",
    "zero. Now we have seen in `Scenario 0` that if a digit is zero and number of ways are also zero at this digit then \n",
    "this zero will propagates till the end and we'll get 0 number of ways eventually.\n",
    "\n",
    "\"\"\""
   ]
  },
  {
   "cell_type": "code",
   "execution_count": null,
   "metadata": {
    "collapsed": true
   },
   "outputs": [],
   "source": [
    "#num_ways(\"3\") \"3\" -> 'c' 1 way of decoding\n",
    "\n",
    "#num_ways(\"\") \"\" -> \"\" 1 way of decoding            <------Base Case\n",
    "\n",
    "#num_ways(\"12345\") \n",
    "#2 choices\n",
    "\n",
    "#1st choice\n",
    "#Consider '1' first and try to decode \"1\" -> 'a',\n",
    "#then decode the remaining string '2345'\n",
    "#so the entire msg '12345' can be decoded as 'a' + decode('2345')\n",
    "\n",
    "#2nd choice\n",
    "#Consider the first 2 numbers '12' and try to decode it \"12\" -> 'l'\n",
    "#then decode the remaning string '345'\n",
    "#so the entire msg '12345' can be decoded as 'l' + decode('345')\n",
    "\n",
    "#So, the number of ways we can decode entire msg '12345' is\n",
    "#num_ways = num_ways('2345') + num_ways('345')                  <------Recursive Case(Call our func recursively twice)\n",
    "\n",
    "#This looks like recursion\n",
    "\n",
    "#Another example num_ways('27345')\n",
    "#2 choices\n",
    "\n",
    "#1st choice\n",
    "#Consider '2' first and try to decode '2' -> 'b,\n",
    "#then decode the remaining string decode('7345')\n",
    "#so the entire msg can be decoded as 'b' + decode('345')\n",
    "\n",
    "#2nd choice\n",
    "#Consider '27' first and try to decode '27' ->\n",
    "#But there is no mapping for '27'\n",
    "\n",
    "#So the only way of decoding '27345' is decode('7345')\n",
    "#num_ways('27345') = num_ways('7345')                           <------Recursive Case(Call our func recursively once)\n",
    "\n",
    "#If we are given example '011'\n",
    "#There is no mapping for '0' and there is no mapping for '01'        \n",
    "#So num_ways('011') should return 0                                        <------Base Case"
   ]
  },
  {
   "cell_type": "code",
   "execution_count": null,
   "metadata": {
    "collapsed": true
   },
   "outputs": [],
   "source": [
    "#Recursive function which can be inefficient as we calculate some functions again and again \n",
    "#such as for helper(data,5), we calculate helper(data,4) and helper(data,3). for helper(data,4) we again calculate\n",
    "#helper(data,3) and helper(data,2) ans so on. so we calculate helper(data,3) twice here. \n",
    "#this approach takes O(2**n) time if the string has n characters.\n",
    "\n",
    "#we can make this solution  more efficient by using dynamic programming and memoization\n",
    "#by calculating helper(data,3) once and storing the result in an array\n",
    "\n",
    "def helper(data,k):\n",
    "    if k ==0:      #if the number of digits we are going to look at (k) is 0, return 1\n",
    "        return 1\n",
    "    \n",
    "    s = data.length - k \n",
    "    if data[s] == '0':\n",
    "        return 0\n",
    "    \n",
    "    result = helper(data,k-1)\n",
    "    if k>= 2 and int(data[s:s+2]) <= 26:\n",
    "        result += helper(data,k-2)\n",
    "    return result\n",
    "    \n",
    "def num_ways(data):\n",
    "    return helper(data,data.length)"
   ]
  },
  {
   "cell_type": "code",
   "execution_count": null,
   "metadata": {
    "collapsed": true
   },
   "outputs": [],
   "source": [
    "#Solution with dynamic programming and memoization\n",
    "#In this case, we create an array 'memo' of size data.length+1 and store the result of each call to helper(data,k)\n",
    "#or helper(data,n) in the 'memo' array at the k location and retrieve it later when we need it again.\n",
    "#This approach takes only O(n) time as opposed to the earlier approach of O(2**n)\n",
    "\n",
    "#e.g. for num_ways('111'), we create an array 'memo' of size 3+1 initialized with null\n",
    "#memo = [null, null, null, null] and upon calculating helper(data,k), we store that result at position k of 'memo' array\n",
    "\n",
    "def helper_dp(data,k,memo):\n",
    "    if k ==0:      #if the number of digits we are going to look at (k) is 0, return 1\n",
    "        return 1\n",
    "    \n",
    "    s = data.length - k \n",
    "    if data[s] == '0':\n",
    "        return 0\n",
    "    \n",
    "    if memo[k] != null:\n",
    "        return memo[k]\n",
    "    \n",
    "    result = helper_dp(data,k-1,memo)\n",
    "    if k>= 2 and int(data[s:s+2]) <= 26:\n",
    "        result += helper_dp(data,k-2)\n",
    "        \n",
    "    memo[k] = result\n",
    "    return result\n",
    "\n",
    "def num_ways_dp(data):\n",
    "    memo = (null) * (data.length+1) #array of length n+1 intialized with null\n",
    "    return helper(data, data.length, memo)"
   ]
  }
 ],
 "metadata": {
  "kernelspec": {
   "display_name": "Python [conda env:py35]",
   "language": "python",
   "name": "conda-env-py35-py"
  },
  "language_info": {
   "codemirror_mode": {
    "name": "ipython",
    "version": 3
   },
   "file_extension": ".py",
   "mimetype": "text/x-python",
   "name": "python",
   "nbconvert_exporter": "python",
   "pygments_lexer": "ipython3",
   "version": "3.5.2"
  }
 },
 "nbformat": 4,
 "nbformat_minor": 1
}
