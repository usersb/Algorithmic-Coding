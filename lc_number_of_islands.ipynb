{
 "cells": [
  {
   "cell_type": "code",
   "execution_count": 51,
   "metadata": {
    "collapsed": false
   },
   "outputs": [],
   "source": [
    "\n",
    "def number_of_islands(grid):\n",
    "    if grid:\n",
    "        m,n = len(grid),len(grid[0])\n",
    "    else:\n",
    "        return 0\n",
    "    \n",
    "    count_islands = 0\n",
    "    print(m,n)\n",
    "    \n",
    "    def dfs(i,j):\n",
    "        if ((0 <= i < m) and (0 <=j <n) and (grid[i][j])):\n",
    "            grid[i][j] = 0\n",
    "            return (1 + dfs(i-1,j) + dfs(i,j+1) + dfs(i+1,j) + dfs (i,j-1))\n",
    "        return 0\n",
    "    \n",
    "    num_islands = [dfs(i,j) for i in range(m) for j in range(n) if grid[i][j]]\n",
    "    \n",
    "    for island_area in num_islands:\n",
    "        if island_area >= 1:\n",
    "            count_islands += 1\n",
    "    \n",
    "    return (count_islands) if count_islands else 0"
   ]
  },
  {
   "cell_type": "code",
   "execution_count": 52,
   "metadata": {
    "collapsed": false
   },
   "outputs": [
    {
     "name": "stdout",
     "output_type": "stream",
     "text": [
      "4 5\n",
      "1\n"
     ]
    }
   ],
   "source": [
    "grid = [[1,1,1,1,0],\n",
    "        [1,1,0,1,0],\n",
    "        [1,1,0,0,0],\n",
    "        [0,0,0,0,0]]\n",
    "\n",
    "num = number_of_islands(grid)\n",
    "print(num)"
   ]
  },
  {
   "cell_type": "code",
   "execution_count": 53,
   "metadata": {
    "collapsed": false
   },
   "outputs": [
    {
     "name": "stdout",
     "output_type": "stream",
     "text": [
      "4 5\n",
      "3\n"
     ]
    }
   ],
   "source": [
    "grid = [[1,1,0,0,0],\n",
    "        [1,1,0,0,0],\n",
    "        [0,0,1,0,0],\n",
    "        [0,0,0,1,1]]\n",
    "\n",
    "num = number_of_islands(grid)\n",
    "print(num)"
   ]
  },
  {
   "cell_type": "code",
   "execution_count": 54,
   "metadata": {
    "collapsed": false
   },
   "outputs": [
    {
     "name": "stdout",
     "output_type": "stream",
     "text": [
      "0\n"
     ]
    }
   ],
   "source": [
    "grid = []\n",
    "\n",
    "num = number_of_islands(grid)\n",
    "print(num)"
   ]
  },
  {
   "cell_type": "code",
   "execution_count": null,
   "metadata": {
    "collapsed": true
   },
   "outputs": [],
   "source": []
  }
 ],
 "metadata": {
  "kernelspec": {
   "display_name": "Python [conda env:py35]",
   "language": "python",
   "name": "conda-env-py35-py"
  },
  "language_info": {
   "codemirror_mode": {
    "name": "ipython",
    "version": 3
   },
   "file_extension": ".py",
   "mimetype": "text/x-python",
   "name": "python",
   "nbconvert_exporter": "python",
   "pygments_lexer": "ipython3",
   "version": "3.5.2"
  }
 },
 "nbformat": 4,
 "nbformat_minor": 1
}
