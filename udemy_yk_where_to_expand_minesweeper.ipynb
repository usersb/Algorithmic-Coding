{
 "cells": [
  {
   "cell_type": "code",
   "execution_count": 9,
   "metadata": {
    "collapsed": true
   },
   "outputs": [],
   "source": [
    "def to_string(given_array):\n",
    "    list_rows = []\n",
    "    \n",
    "    for row in given_array:\n",
    "        list_rows.append(str(row))\n",
    "        \n",
    "    return('[' + ',\\n ' .join(list_rows) + ']')"
   ]
  },
  {
   "cell_type": "code",
   "execution_count": 19,
   "metadata": {
    "collapsed": true
   },
   "outputs": [],
   "source": [
    "from queue import Queue\n",
    "def click(field,num_rows,num_cols,given_i,given_j):\n",
    "    #initialize a queue 'to_check' to check the cells later\n",
    "    to_check = Queue()\n",
    "    if field[given_i][given_j] == 0:\n",
    "        field[given_i][given_j] = -2\n",
    "        \n",
    "        to_check.put((given_i,given_j))\n",
    "    else:\n",
    "        return field\n",
    "    \n",
    "    while not to_check.empty():\n",
    "        (current_i,current_j) = to_check.get()\n",
    "        \n",
    "        for i in range(current_i - 1, current_i + 2):\n",
    "            for j in range(current_j -1, current_j + 2):\n",
    "                if (0 <= i < num_rows and 0 <= j < num_cols and field[i][j] == 0):\n",
    "                    field[i][j] = -2\n",
    "                    to_check.put((i,j))\n",
    "    return(field)"
   ]
  },
  {
   "cell_type": "code",
   "execution_count": 20,
   "metadata": {
    "collapsed": false
   },
   "outputs": [
    {
     "name": "stdout",
     "output_type": "stream",
     "text": [
      "[[0, 0, 0, 0, 0],\n",
      " [0, 1, 1, 1, 0],\n",
      " [0, 1, -1, 1, 0]]\n"
     ]
    }
   ],
   "source": [
    "field1 = [[0, 0, 0, 0, 0],\n",
    "          [0, 1, 1, 1, 0],\n",
    "          [0, 1, -1, 1, 0]] \n",
    "\n",
    "result = click(field1,3,5,2,2)\n",
    "print(to_string(result))"
   ]
  },
  {
   "cell_type": "code",
   "execution_count": 21,
   "metadata": {
    "collapsed": false
   },
   "outputs": [
    {
     "name": "stdout",
     "output_type": "stream",
     "text": [
      "[[-2, -2, -2, -2, -2],\n",
      " [-2, 1, 1, 1, -2],\n",
      " [-2, 1, -1, 1, -2]]\n"
     ]
    }
   ],
   "source": [
    "result = click(field1,3,5,1,4)\n",
    "print(to_string(result))"
   ]
  },
  {
   "cell_type": "code",
   "execution_count": 22,
   "metadata": {
    "collapsed": false
   },
   "outputs": [
    {
     "name": "stdout",
     "output_type": "stream",
     "text": [
      "[[-1, 1, 0, 0],\n",
      " [1, 1, 0, 0],\n",
      " [0, 0, 1, 1],\n",
      " [0, 0, 1, -1]]\n"
     ]
    }
   ],
   "source": [
    "field2 = [[-1, 1, 0, 0],\n",
    "          [1, 1, 0, 0],\n",
    "          [0, 0, 1, 1],\n",
    "          [0, 0, 1, -1]]\n",
    "\n",
    "result1 = click(field2,4,4,0,1)\n",
    "print(to_string(result1))"
   ]
  },
  {
   "cell_type": "code",
   "execution_count": 23,
   "metadata": {
    "collapsed": false
   },
   "outputs": [
    {
     "name": "stdout",
     "output_type": "stream",
     "text": [
      "[[-1, 1, -2, -2],\n",
      " [1, 1, -2, -2],\n",
      " [-2, -2, 1, 1],\n",
      " [-2, -2, 1, -1]]\n"
     ]
    }
   ],
   "source": [
    "result1 = click(field2,4,4,1,3)\n",
    "print(to_string(result1))"
   ]
  },
  {
   "cell_type": "code",
   "execution_count": null,
   "metadata": {
    "collapsed": true
   },
   "outputs": [],
   "source": []
  }
 ],
 "metadata": {
  "kernelspec": {
   "display_name": "Python [conda env:py35]",
   "language": "python",
   "name": "conda-env-py35-py"
  },
  "language_info": {
   "codemirror_mode": {
    "name": "ipython",
    "version": 3
   },
   "file_extension": ".py",
   "mimetype": "text/x-python",
   "name": "python",
   "nbconvert_exporter": "python",
   "pygments_lexer": "ipython3",
   "version": "3.5.2"
  }
 },
 "nbformat": 4,
 "nbformat_minor": 1
}
