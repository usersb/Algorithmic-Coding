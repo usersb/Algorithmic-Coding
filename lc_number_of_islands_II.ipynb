{
 "cells": [
  {
   "cell_type": "code",
   "execution_count": 76,
   "metadata": {
    "collapsed": false
   },
   "outputs": [],
   "source": [
    "def numIslands2(m, n, positions):\n",
    "    grid = ([[0 for j in range(n)] for i in range(m)])\n",
    "    \n",
    "    def add_land(position):\n",
    "        count_islands = 0\n",
    "        r = position[0]\n",
    "        c = position[1]\n",
    "        grid[r][c] = 1\n",
    "        \n",
    "        def dfs(a,b):\n",
    "            if ((0 <= a <  m) and (0 <= b < n) and (grid[a][b])):\n",
    "                grid[a][b] = 0\n",
    "                return(1 + dfs(a-1,b) + dfs(a,b+1) + dfs(a+1,b) + dfs(a,b-1))\n",
    "            return 0\n",
    "        \n",
    " \n",
    "        num_islands = [dfs(a,b) for a in range(m) for b in range(n) if grid[a][b]]\n",
    "        print(num_islands)\n",
    "        \n",
    "#         for island_area in num_islands:\n",
    "#             if island_area >= 1:\n",
    "#                 count_islands += 1\n",
    "          \n",
    "#         return (count_islands) if count_islands else 0\n",
    "    \n",
    "    for pos in positions:\n",
    "        add_land(tuple(pos))\n",
    "    print(grid)"
   ]
  },
  {
   "cell_type": "code",
   "execution_count": 34,
   "metadata": {
    "collapsed": false
   },
   "outputs": [
    {
     "name": "stdout",
     "output_type": "stream",
     "text": [
      "[[1, 1, 0], [0, 0, 1], [0, 1, 0]]\n"
     ]
    }
   ],
   "source": [
    "numIslands2(3,3,[[0,0], [0,1], [1,2], [2,1]])"
   ]
  },
  {
   "cell_type": "code",
   "execution_count": 77,
   "metadata": {
    "collapsed": false
   },
   "outputs": [
    {
     "name": "stdout",
     "output_type": "stream",
     "text": [
      "[1]\n",
      "[1]\n",
      "[1]\n",
      "[1]\n",
      "[[0, 0, 0], [0, 0, 0], [0, 0, 0]]\n",
      "None\n"
     ]
    }
   ],
   "source": [
    "cnt = numIslands2(3,3,[[0,0], [0,1], [1,2], [2,1]])\n",
    "print(cnt)"
   ]
  },
  {
   "cell_type": "code",
   "execution_count": null,
   "metadata": {
    "collapsed": true
   },
   "outputs": [],
   "source": []
  }
 ],
 "metadata": {
  "kernelspec": {
   "display_name": "Python [conda env:py35]",
   "language": "python",
   "name": "conda-env-py35-py"
  },
  "language_info": {
   "codemirror_mode": {
    "name": "ipython",
    "version": 3
   },
   "file_extension": ".py",
   "mimetype": "text/x-python",
   "name": "python",
   "nbconvert_exporter": "python",
   "pygments_lexer": "ipython3",
   "version": "3.5.2"
  }
 },
 "nbformat": 4,
 "nbformat_minor": 1
}
