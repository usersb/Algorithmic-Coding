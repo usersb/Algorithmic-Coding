{
 "cells": [
  {
   "cell_type": "code",
   "execution_count": 1,
   "metadata": {
    "collapsed": true
   },
   "outputs": [],
   "source": [
    "def common_elements(list1, list2):\n",
    "    seen_dict = {}\n",
    "    result = []\n",
    "    \n",
    "    for num in list1:\n",
    "        if num in seen_dict:\n",
    "            seen_dict[num] += 1\n",
    "        else:\n",
    "            seen_dict[num] = 1\n",
    "            \n",
    "    for num in list2:\n",
    "        if num in seen_dict:\n",
    "            seen_dict[num] += 1\n",
    "        else:\n",
    "            seen_dict[num] = 1\n",
    "    \n",
    "    for key,val in seen_dict.items():\n",
    "        if val > 1:\n",
    "            result.append(key)\n",
    "    \n",
    "    return result"
   ]
  },
  {
   "cell_type": "code",
   "execution_count": 2,
   "metadata": {
    "collapsed": false
   },
   "outputs": [
    {
     "name": "stdout",
     "output_type": "stream",
     "text": [
      "[]\n"
     ]
    }
   ],
   "source": [
    "list_a1 = [1, 3, 4, 6, 7, 9]\n",
    "list_a2 = [1, 2, 4, 5, 9, 10]\n",
    "\n",
    "list_b1 = [1, 2, 9, 10, 11, 12]\n",
    "list_b2 = [0, 1, 2, 3, 4, 5, 8, 9, 10, 12, 14, 15]\n",
    "\n",
    "list_c1 = [0, 1, 2, 3, 4, 5]\n",
    "list_c2 = [6, 7, 8, 9, 10, 11]\n",
    "\n",
    "res = common_elements(list_a1, list_a2)\n",
    "\n",
    "res = common_elements(list_b1, list_b2)\n",
    "\n",
    "res = common_elements(list_c1, list_c2)\n",
    "print(res)"
   ]
  },
  {
   "cell_type": "code",
   "execution_count": null,
   "metadata": {
    "collapsed": true
   },
   "outputs": [],
   "source": []
  }
 ],
 "metadata": {
  "kernelspec": {
   "display_name": "Python [conda env:py35]",
   "language": "python",
   "name": "conda-env-py35-py"
  },
  "language_info": {
   "codemirror_mode": {
    "name": "ipython",
    "version": 3
   },
   "file_extension": ".py",
   "mimetype": "text/x-python",
   "name": "python",
   "nbconvert_exporter": "python",
   "pygments_lexer": "ipython3",
   "version": "3.5.2"
  }
 },
 "nbformat": 4,
 "nbformat_minor": 1
}
