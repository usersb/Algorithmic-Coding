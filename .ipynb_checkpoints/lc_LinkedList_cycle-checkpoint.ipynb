{
 "cells": [
  {
   "cell_type": "code",
   "execution_count": 1,
   "metadata": {
    "collapsed": true
   },
   "outputs": [],
   "source": [
    "#Definition for creating singly LinkedList\n",
    "\n",
    "class ListNode(object):\n",
    "    \n",
    "    def __init__(self,x):\n",
    "        self.value = x\n",
    "        self.next = None\n",
    "        "
   ]
  },
  {
   "cell_type": "code",
   "execution_count": 2,
   "metadata": {
    "collapsed": true
   },
   "outputs": [],
   "source": [
    "#Solution with Hash table\n",
    "\n",
    "def has_cycle(self,head):\n",
    "    \n",
    "    if not head or not head.next:\n",
    "        return False\n",
    "    \n",
    "    has_seen = {}\n",
    "    \n",
    "    while head:\n",
    "        \n",
    "        if head in has_seen:\n",
    "            return True\n",
    "        else:\n",
    "            has_seen[head] = 1\n",
    "    head = head.next\n",
    "        \n",
    "    return False"
   ]
  },
  {
   "cell_type": "code",
   "execution_count": null,
   "metadata": {
    "collapsed": true
   },
   "outputs": [],
   "source": [
    "#Solution with slow and fast pointers\n",
    "\n",
    "def has_cycle_p(self,head):\n",
    "    \n",
    "    if not head or not head.next:\n",
    "        return False\n",
    "    \n",
    "    slow = head\n",
    "    fast = head.next\n",
    "    \n",
    "    while fast and fast.next:\n",
    "        if fast == slow:\n",
    "            return True\n",
    "        \n",
    "        slow = slow.next\n",
    "        fast = fast.next.next\n",
    "    return false        \n",
    "  "
   ]
  }
 ],
 "metadata": {
  "kernelspec": {
   "display_name": "Python [conda env:py35]",
   "language": "python",
   "name": "conda-env-py35-py"
  },
  "language_info": {
   "codemirror_mode": {
    "name": "ipython",
    "version": 3
   },
   "file_extension": ".py",
   "mimetype": "text/x-python",
   "name": "python",
   "nbconvert_exporter": "python",
   "pygments_lexer": "ipython3",
   "version": "3.5.2"
  }
 },
 "nbformat": 4,
 "nbformat_minor": 1
}
