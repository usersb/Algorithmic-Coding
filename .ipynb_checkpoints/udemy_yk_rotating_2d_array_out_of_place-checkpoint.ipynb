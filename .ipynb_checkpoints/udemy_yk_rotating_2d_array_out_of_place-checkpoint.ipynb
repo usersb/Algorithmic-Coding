{
 "cells": [
  {
   "cell_type": "code",
   "execution_count": 16,
   "metadata": {
    "collapsed": true
   },
   "outputs": [],
   "source": [
    "def to_string(given_array):\n",
    "    list_rows = []\n",
    "    \n",
    "    for row in given_array:\n",
    "        list_rows.append(str(row))\n",
    "        \n",
    "    return('[' + ',\\n ' .join(list_rows) + ']')"
   ]
  },
  {
   "cell_type": "code",
   "execution_count": 21,
   "metadata": {
    "collapsed": true
   },
   "outputs": [],
   "source": [
    "def rotate_sub(i,j,n):\n",
    "    return((j,n-1-i))"
   ]
  },
  {
   "cell_type": "code",
   "execution_count": 24,
   "metadata": {
    "collapsed": true
   },
   "outputs": [],
   "source": [
    "def rotate(given_array,n):\n",
    "    print(to_string(given_array))\n",
    "    rotated_array = [[0 for j in range(n)] for i in range(n)]\n",
    "    \n",
    "    for i in range(0,n):\n",
    "        for j in range(0,n):\n",
    "            (new_i,new_j) = rotate_sub(i,j,n)\n",
    "            rotated_array[new_i][new_j] = given_array[i][j]\n",
    "            \n",
    "    return(rotated_array)"
   ]
  },
  {
   "cell_type": "code",
   "execution_count": 25,
   "metadata": {
    "collapsed": false
   },
   "outputs": [
    {
     "name": "stdout",
     "output_type": "stream",
     "text": [
      "[[1, 2, 3],\n",
      " [4, 5, 6],\n",
      " [7, 8, 9]]\n",
      "[[7, 4, 1],\n",
      " [8, 5, 2],\n",
      " [9, 6, 3]]\n"
     ]
    }
   ],
   "source": [
    "given_array = [[1,2,3],[4,5,6],[7,8,9]]\n",
    "result = rotate(given_array,3)\n",
    "print(to_string(result))"
   ]
  },
  {
   "cell_type": "code",
   "execution_count": null,
   "metadata": {
    "collapsed": true
   },
   "outputs": [],
   "source": [
    "#logic for finding new indices \n",
    "[0,0] -> [0,2] old col index :0 = new row index :0 i.e. new_i = j ; new_j = n-1-i =3-1-0= 2\n",
    "[0,1] -> [1,2] old col index :1 = new row index :1\n",
    "[0,2] -> [2,2] old col index :2 = new row index :2\n",
    "\n",
    "[1,0] -> [0,1] old col index :0 = new row index :0 i.e new_i = j ; new_j = n-1-i =3-1-1= 1\n",
    "[1,1] -> [1,1] old col index :1 = new row index :1\n",
    "[1,2] -> [2,1] old col index :2 = new row index :2\n",
    "\n",
    "[2,0] -> [0,0] old col index :0 = new row index :0 i.e new_i = j ; new_j = n-1-i ==3-1-2= 0\n",
    "[2,1] -> [1,0] old col index :1 = new row index :1\n",
    "[2,2] -> [2,0] old col index :2 = new row index :2"
   ]
  }
 ],
 "metadata": {
  "kernelspec": {
   "display_name": "Python [conda env:py35]",
   "language": "python",
   "name": "conda-env-py35-py"
  },
  "language_info": {
   "codemirror_mode": {
    "name": "ipython",
    "version": 3
   },
   "file_extension": ".py",
   "mimetype": "text/x-python",
   "name": "python",
   "nbconvert_exporter": "python",
   "pygments_lexer": "ipython3",
   "version": "3.5.2"
  }
 },
 "nbformat": 4,
 "nbformat_minor": 1
}
