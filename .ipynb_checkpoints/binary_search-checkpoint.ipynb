{
 "cells": [
  {
   "cell_type": "code",
   "execution_count": 1,
   "metadata": {
    "collapsed": true
   },
   "outputs": [],
   "source": [
    "#finding an item in a sorted list using binary search"
   ]
  },
  {
   "cell_type": "code",
   "execution_count": 1,
   "metadata": {
    "collapsed": false
   },
   "outputs": [],
   "source": [
    "def binary_search(target, sorted_scores):\n",
    "    floor_index = -1\n",
    "    ceiling_index = len(sorted_scores)\n",
    "    \n",
    "    while (floor_index + 1) < ceiling_index:\n",
    "        distance = ceiling_index - floor_index\n",
    "        half_distance = int(distance / 2)\n",
    "        guess_index = floor_index + half_distance\n",
    "        #print(guess_index)\n",
    "        guess_target = sorted_scores[guess_index]\n",
    "    \n",
    "    \n",
    "        if target == guess_target:\n",
    "            return True\n",
    "    \n",
    "        if target < guess_target:\n",
    "            ceiling_index = guess_index\n",
    "        else:\n",
    "            floor_index = guess_index\n",
    "            \n",
    "    return False\n",
    "    "
   ]
  },
  {
   "cell_type": "code",
   "execution_count": 5,
   "metadata": {
    "collapsed": false
   },
   "outputs": [
    {
     "name": "stdout",
     "output_type": "stream",
     "text": [
      "True\n"
     ]
    }
   ],
   "source": [
    "sorted_scores = [37, 41, 53, 65, 89, 91,99]\n",
    "#target = 41\n",
    "#target = 89\n",
    "#target = 100\n",
    "#target = 37\n",
    "#target = 99\n",
    "target = 65\n",
    "found = binary_search(target, sorted_scores)\n",
    "print(found)"
   ]
  },
  {
   "cell_type": "markdown",
   "metadata": {
    "collapsed": true
   },
   "source": [
    "Time complexity = O(lgn)\n",
    "space complexity = O(n)\n",
    "\n",
    "how many times do we need to divide our list of sorted numbers of size n into 1/2 until we get down to 1?\n",
    "\n",
    "n * 1/2 * 1/2 * 1/2 * 1/2 *.... = 1\n",
    "\n",
    "i.e. n * (1/2)^x = 1\n",
    "\n",
    "n * (1^x/2^x) = 1\n",
    "n  * (1/2^x) = 1\n",
    "n = 2^x\n",
    "\n",
    "To remove x from the exponent we take log of both sides\n",
    "log n to the base 2= log 2^x to the base 2\n",
    "\n",
    "e.g. log 100 to the base 10 means what power do we raise 10 to, to get 100? Answer is 2\n",
    "similarly what power do we raise 2 to, to get 2^x? Answer is x\n",
    "\n",
    "so, log n to the base 2  = x\n",
    "\n",
    "Thus the number of times we must divide our list of size n into 1/2 in order to get down to 1 is log n to the base2. So our total time cost is O(lgn)"
   ]
  }
 ],
 "metadata": {
  "anaconda-cloud": {},
  "kernelspec": {
   "display_name": "Python [conda env:py35]",
   "language": "python",
   "name": "conda-env-py35-py"
  },
  "language_info": {
   "codemirror_mode": {
    "name": "ipython",
    "version": 3
   },
   "file_extension": ".py",
   "mimetype": "text/x-python",
   "name": "python",
   "nbconvert_exporter": "python",
   "pygments_lexer": "ipython3",
   "version": "3.5.2"
  }
 },
 "nbformat": 4,
 "nbformat_minor": 1
}
