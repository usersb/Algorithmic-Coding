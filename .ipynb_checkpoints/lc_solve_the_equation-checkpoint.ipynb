{
 "cells": [
  {
   "cell_type": "markdown",
   "metadata": {},
   "source": [
    "Approach #1 Partioning Coefficients [Accepted]\n",
    "\n",
    "In the current approach, we start by splitting the given equation based on = sign. This way, we've separated the left and right hand side of this equation. Once this is done, we need to extract the individual elements(i.e. x's and the numbers) from both sides of the equation. To do so, we make use of breakIt function, in which we traverse over the given equation(either left hand side or right hand side), and put the separated parts into an array.\n",
    "\n",
    "Now, the idea is as follows. We treat the given equation as if we're bringing all the x's on the left hand side and all the rest of the numbers on the right hand side as done below for an example.\n",
    "\n",
    "x+5-3+x=6+x-2\n",
    "\n",
    "x+x-x=6-2-5+3\n",
    "\n",
    "Thus, every x in the left hand side of the given equation is treated as positive, while that on the right hand side is treated as negative, in the current implementation.\n",
    "\n",
    "Likewise, every number on the left hand side is treated as negative, while that on the right hand side is treated as positive. Thus, by doing so, we obtain all the x's in the new lhs and all the numbers in the new rhs of the original equation.\n",
    "\n",
    "Further, in case of an x, we also need to find its corresponding coefficients in order to evaluate the final effective coefficient of x on the left hand side. We also evaluate the final effective number on the right hand side as well.\n",
    "\n",
    "Now, in case of a unique solution, the ratio of the effective rhs and lhs gives the required result. In case of infinite solutions, both the effective lhs and rhs turns out to be zero e.g. x+1=x+1. In case of no "
   ]
  },
  {
   "cell_type": "code",
   "execution_count": 21,
   "metadata": {
    "collapsed": false
   },
   "outputs": [],
   "source": [
    "class Solution(object):\n",
    "     def solve_equation(self,equation):\n",
    "       \n",
    "        def helper(s):\n",
    "            sign = 1\n",
    "            n=len(s)\n",
    "            i= coef =const = 0\n",
    "            \n",
    "            while i < n:\n",
    "                if s[i] == '-':\n",
    "                    sign = -1\n",
    "                elif s[i] == '+':\n",
    "                    sign = 1\n",
    "                elif s[i].isdigit():\n",
    "                    j=i\n",
    "                    \n",
    "                    while j<n and s[j].isdigit():\n",
    "                        #to account for more than one digits\n",
    "                        j+= 1\n",
    "                    tmp = int(s[i:j])\n",
    "                    \n",
    "                    if j<n and s[j] == 'x':\n",
    "                        #check if there is an x after the digit then the digit would\n",
    "                        #be a coef else a const\n",
    "                        coef += tmp * sign\n",
    "                        j += 1\n",
    "                    else:\n",
    "                        #digit is a const\n",
    "                        const += tmp * sign\n",
    "                    i=j-1 #reset i to j-1\n",
    "                else:\n",
    "                    #s[i] is only x without any coef, so assign it to coef with the sign\n",
    "                    coef += 1 * sign\n",
    "                i+=1 #Move to the next position in s\n",
    "            return coef,const\n",
    "                \n",
    "        \n",
    "        #separate lhs and rhs of the equation\n",
    "        left,right = equation.split(\"=\")\n",
    "        k1,b1 = helper(left)\n",
    "        k2,b2 = helper(right)\n",
    "        #k1x +b1 = k2x +b2\n",
    "        ans = 'x='+ str((b2-b1) / (k1-k2)) if (k1!=k2) and (b1 != b2) \\\n",
    "                else \"Infinite solutions\" if (k1 == k2) and (b1 == b2) \\\n",
    "                else \"No solution\" if b2!=b1 \\\n",
    "                else 'x = 0'\n",
    "        return ans     "
   ]
  },
  {
   "cell_type": "code",
   "execution_count": 22,
   "metadata": {
    "collapsed": false
   },
   "outputs": [
    {
     "name": "stdout",
     "output_type": "stream",
     "text": [
      "x=2.0\n"
     ]
    }
   ],
   "source": [
    "equation = 'x+5-3+x=6+x-2'\n",
    "obj = Solution()\n",
    "result = obj.solve_equation(equation)\n",
    "print(result)"
   ]
  },
  {
   "cell_type": "code",
   "execution_count": null,
   "metadata": {
    "collapsed": true
   },
   "outputs": [],
   "source": []
  }
 ],
 "metadata": {
  "kernelspec": {
   "display_name": "Python [conda env:py35]",
   "language": "python",
   "name": "conda-env-py35-py"
  },
  "language_info": {
   "codemirror_mode": {
    "name": "ipython",
    "version": 3
   },
   "file_extension": ".py",
   "mimetype": "text/x-python",
   "name": "python",
   "nbconvert_exporter": "python",
   "pygments_lexer": "ipython3",
   "version": "3.5.2"
  }
 },
 "nbformat": 4,
 "nbformat_minor": 1
}
