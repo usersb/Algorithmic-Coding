{
 "cells": [
  {
   "cell_type": "code",
   "execution_count": 52,
   "metadata": {
    "collapsed": false
   },
   "outputs": [
    {
     "name": "stdout",
     "output_type": "stream",
     "text": [
      "['s', 'o', 'n', 'a', 'l']\n"
     ]
    }
   ],
   "source": [
    "ip_list = ['s','o','n','a','l']\n",
    "#ip_list = ['m','i','r','a']\n",
    "#ip_list = ['m','i','r','r','o','r']\n",
    "print(ip_list)"
   ]
  },
  {
   "cell_type": "code",
   "execution_count": 47,
   "metadata": {
    "collapsed": false
   },
   "outputs": [],
   "source": [
    "def rev_list(ip_list):\n",
    "    \n",
    "    len_list = len(ip_list)-1\n",
    "    \n",
    "    for i in range(0,len_list):\n",
    "        \n",
    "        if i>=((len_list)-i):\n",
    "            break\n",
    "        else:\n",
    "            ip_list[i],ip_list[len_list-i] = ip_list[len_list-i],ip_list[i]\n",
    "    \n",
    "    print(ip_list) "
   ]
  },
  {
   "cell_type": "code",
   "execution_count": 53,
   "metadata": {
    "collapsed": false
   },
   "outputs": [
    {
     "name": "stdout",
     "output_type": "stream",
     "text": [
      "['l', 'a', 'n', 'o', 's']\n"
     ]
    }
   ],
   "source": [
    "rev_list(ip_list)"
   ]
  },
  {
   "cell_type": "code",
   "execution_count": null,
   "metadata": {
    "collapsed": true
   },
   "outputs": [],
   "source": []
  }
 ],
 "metadata": {
  "anaconda-cloud": {},
  "kernelspec": {
   "display_name": "Python [conda env:py35]",
   "language": "python",
   "name": "conda-env-py35-py"
  },
  "language_info": {
   "codemirror_mode": {
    "name": "ipython",
    "version": 3
   },
   "file_extension": ".py",
   "mimetype": "text/x-python",
   "name": "python",
   "nbconvert_exporter": "python",
   "pygments_lexer": "ipython3",
   "version": "3.5.2"
  }
 },
 "nbformat": 4,
 "nbformat_minor": 1
}
