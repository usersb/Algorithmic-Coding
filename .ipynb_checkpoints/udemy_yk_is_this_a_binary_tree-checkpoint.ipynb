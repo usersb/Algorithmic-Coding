{
 "cells": [
  {
   "cell_type": "code",
   "execution_count": 1,
   "metadata": {
    "collapsed": true
   },
   "outputs": [],
   "source": [
    "#Class for creating a binary tree\n",
    "\n",
    "class Node:\n",
    "    \n",
    "    def __init__(self, value, left=None, right=None):\n",
    "        self.value = value\n",
    "        self.left = left\n",
    "        self.right = right\n",
    "        \n",
    "    def __str__(self):\n",
    "        return(str(self.value))"
   ]
  },
  {
   "cell_type": "code",
   "execution_count": 19,
   "metadata": {
    "collapsed": true
   },
   "outputs": [],
   "source": [
    "#Function for creating a tree\n",
    "\n",
    "# Input:\n",
    "# - mapping: a node-to-node mapping that shows how the tree should be constructed\n",
    "# - head_value: the value that will be used for the head ndoe\n",
    "\n",
    "#e.g - mapping1 = {0: [1, 2], 1: [3, 4], 2: [5, 6]}\n",
    "#head1 = create_tree(mapping1, 0)\n",
    "\n",
    "# Output:\n",
    "# - The head node of the resulting tree\n",
    "\n",
    "def create_tree(mapping,head_value):\n",
    "    head = Node(head_value)\n",
    "    nodes = {head_value: head}\n",
    "    for key, value in mapping.items():\n",
    "        nodes[value[0]] = Node(value[0])\n",
    "        nodes[value[1]] = Node(value[1])\n",
    "    for key, value in mapping.items():\n",
    "        nodes[key].left = nodes[value[0]]\n",
    "        nodes[key].right = nodes[value[1]]\n",
    "    return(head)\n"
   ]
  },
  {
   "cell_type": "code",
   "execution_count": 3,
   "metadata": {
    "collapsed": true
   },
   "outputs": [],
   "source": [
    "def is_bst(node,lower_lim = None, upper_lim = None):\n",
    "    \n",
    "    if (lower_lim and node.value < lower_lim):\n",
    "        return False\n",
    "    if (upper_lim and upper_lim < node.value):\n",
    "        return False\n",
    "    \n",
    "    is_left_bst = True\n",
    "    is_right_bst = True\n",
    "    \n",
    "    if node.left:\n",
    "        is_left_bst = is_bst(node.left,lower_lim,node.value)\n",
    "    if is_left_bst and node.right:\n",
    "        is_right_bst = is_bst(node.right,node.value,upper_lim)\n",
    "        \n",
    "    return is_left_bst and is_right_bst"
   ]
  },
  {
   "cell_type": "code",
   "execution_count": 4,
   "metadata": {
    "collapsed": true
   },
   "outputs": [],
   "source": [
    "# NOTE: The following values will be used for testing your solution.\n",
    "\n",
    "# The mapping we're going to use for constructing a tree.\n",
    "# {0: [1, 2]} means that 0's left child is 1, and its right\n",
    "# child is 2.\n",
    "mapping1 = {0: [1, 2], 1: [3, 4], 2: [5, 6]}\n",
    "mapping2 = {3: [1, 4], 1: [0, 2], 4: [5, 6]}\n",
    "mapping3 = {3: [1, 5], 1: [0, 2], 5: [4, 6]}\n",
    "mapping4 = {3: [1, 5], 1: [0, 4]}"
   ]
  },
  {
   "cell_type": "code",
   "execution_count": 5,
   "metadata": {
    "collapsed": false
   },
   "outputs": [],
   "source": [
    "head1 = create_tree(mapping1, 0)"
   ]
  },
  {
   "cell_type": "code",
   "execution_count": 20,
   "metadata": {
    "collapsed": true
   },
   "outputs": [],
   "source": [
    "head2 = create_tree(mapping2, 3)"
   ]
  },
  {
   "cell_type": "code",
   "execution_count": 22,
   "metadata": {
    "collapsed": true
   },
   "outputs": [],
   "source": [
    "head3 = create_tree(mapping3, 3)"
   ]
  },
  {
   "cell_type": "code",
   "execution_count": 23,
   "metadata": {
    "collapsed": true
   },
   "outputs": [],
   "source": [
    "head4 = create_tree(mapping4, 3)"
   ]
  },
  {
   "cell_type": "code",
   "execution_count": 13,
   "metadata": {
    "collapsed": false
   },
   "outputs": [
    {
     "data": {
      "text/plain": [
       "False"
      ]
     },
     "execution_count": 13,
     "metadata": {},
     "output_type": "execute_result"
    }
   ],
   "source": [
    "is_bst(head1)"
   ]
  },
  {
   "cell_type": "code",
   "execution_count": 21,
   "metadata": {
    "collapsed": false
   },
   "outputs": [
    {
     "data": {
      "text/plain": [
       "False"
      ]
     },
     "execution_count": 21,
     "metadata": {},
     "output_type": "execute_result"
    }
   ],
   "source": [
    "is_bst(head2)"
   ]
  },
  {
   "cell_type": "code",
   "execution_count": 24,
   "metadata": {
    "collapsed": false
   },
   "outputs": [
    {
     "data": {
      "text/plain": [
       "True"
      ]
     },
     "execution_count": 24,
     "metadata": {},
     "output_type": "execute_result"
    }
   ],
   "source": [
    "is_bst(head3)"
   ]
  },
  {
   "cell_type": "code",
   "execution_count": 25,
   "metadata": {
    "collapsed": false
   },
   "outputs": [
    {
     "data": {
      "text/plain": [
       "False"
      ]
     },
     "execution_count": 25,
     "metadata": {},
     "output_type": "execute_result"
    }
   ],
   "source": [
    "is_bst(head4)"
   ]
  },
  {
   "cell_type": "code",
   "execution_count": null,
   "metadata": {
    "collapsed": true
   },
   "outputs": [],
   "source": []
  }
 ],
 "metadata": {
  "kernelspec": {
   "display_name": "Python [conda env:py35]",
   "language": "python",
   "name": "conda-env-py35-py"
  },
  "language_info": {
   "codemirror_mode": {
    "name": "ipython",
    "version": 3
   },
   "file_extension": ".py",
   "mimetype": "text/x-python",
   "name": "python",
   "nbconvert_exporter": "python",
   "pygments_lexer": "ipython3",
   "version": "3.5.2"
  }
 },
 "nbformat": 4,
 "nbformat_minor": 1
}
