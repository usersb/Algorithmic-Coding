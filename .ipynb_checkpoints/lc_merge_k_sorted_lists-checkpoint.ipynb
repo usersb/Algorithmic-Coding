{
 "cells": [
  {
   "cell_type": "code",
   "execution_count": 1,
   "metadata": {
    "collapsed": true
   },
   "outputs": [],
   "source": [
    "class Solution(object):\n",
    "    \n",
    "    def merge_k_sorted_lists(self,lists):\n",
    "        \n",
    "        self.nodes = []\n",
    "        head = point = ListNode(0)\n",
    "        \n",
    "        for l in lists:\n",
    "            while l:\n",
    "                self.nodes.append(l.val)\n",
    "                l = l.next\n",
    "        for x in sorted(self.nodes):\n",
    "            point.next = ListNode(x)\n",
    "            point = point.next\n",
    "        return(head.next)"
   ]
  },
  {
   "cell_type": "markdown",
   "metadata": {},
   "source": [
    "Complexity Analysis\n",
    "\n",
    "Time complexity : O(NlogN) where N is the total number of nodes.\n",
    "\n",
    "Collecting all the values costs O(N) time.\n",
    "A stable sorting algorithm costs O(NlogN) time.\n",
    "Iterating for creating the linked list costs O(N) time.\n",
    "Space complexity : O(N).\n",
    "\n",
    "Sorting cost O(N) space (depends on the algorithm you choose).\n",
    "Creating a new linked list costs O(N) space. "
   ]
  }
 ],
 "metadata": {
  "kernelspec": {
   "display_name": "Python [conda env:py35]",
   "language": "python",
   "name": "conda-env-py35-py"
  },
  "language_info": {
   "codemirror_mode": {
    "name": "ipython",
    "version": 3
   },
   "file_extension": ".py",
   "mimetype": "text/x-python",
   "name": "python",
   "nbconvert_exporter": "python",
   "pygments_lexer": "ipython3",
   "version": "3.5.2"
  }
 },
 "nbformat": 4,
 "nbformat_minor": 1
}
