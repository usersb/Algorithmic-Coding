{
 "cells": [
  {
   "cell_type": "code",
   "execution_count": 1,
   "metadata": {
    "collapsed": true
   },
   "outputs": [],
   "source": [
    "class Stack:\n",
    "    \n",
    "    def __init__(self):\n",
    "        self.stack = []\n",
    "        \n",
    "    def push(self,item):\n",
    "        self.stack.append(item)\n",
    "        \n",
    "    def pop(self):\n",
    "        return self.stack.pop()\n",
    "    \n",
    "    def top(self):\n",
    "        return(self.stack[len(self.stack)-1])"
   ]
  },
  {
   "cell_type": "code",
   "execution_count": 2,
   "metadata": {
    "collapsed": true
   },
   "outputs": [],
   "source": [
    "class Solution(object):\n",
    "    stack = Stack()\n",
    "    \n",
    "    def is_valid(self,s):\n",
    "        \n",
    "        mapping = {')':'(', '}':'{', ']':'['}\n",
    "        \n",
    "        #For every bracket in the expression\n",
    "        for char in s:\n",
    "            \n",
    "                #If the character is a closing bracket\n",
    "                if char in mapping:\n",
    "                    \n",
    "                    #Pop the topmost element in the stack if it is non-empty\n",
    "                    if stack:\n",
    "                        top_element = stack.top()\n",
    "                    \n",
    "                    #if mapping for the opening bracket in our dictionary and the top element don't match\n",
    "                    #so return False\n",
    "                    if mapping[char] != top_element:\n",
    "                        return False\n",
    "                \n",
    "                #We have an opening bracket, simply push it on the stack\n",
    "                else:     \n",
    "                    stack.push(char)\n",
    "                    \n",
    "        #In the end if the stack is empty, we have a valid expression\n",
    "        #we won't have a valid expression if the expression is '((()'"
   ]
  },
  {
   "cell_type": "markdown",
   "metadata": {},
   "source": [
    "Complexity analysis\n",
    "\n",
    "Time complexity : O(n) because we simply traverse the given string one character at a time and push and pop operations on a stack take O(1) time.\n",
    "\n",
    "Space complexity : O(n) as we push all opening brackets onto the stack and in the worst case, we will end up pushing all the brackets onto the stack. e.g. ((((((((((."
   ]
  }
 ],
 "metadata": {
  "kernelspec": {
   "display_name": "Python [conda env:py35]",
   "language": "python",
   "name": "conda-env-py35-py"
  },
  "language_info": {
   "codemirror_mode": {
    "name": "ipython",
    "version": 3
   },
   "file_extension": ".py",
   "mimetype": "text/x-python",
   "name": "python",
   "nbconvert_exporter": "python",
   "pygments_lexer": "ipython3",
   "version": "3.5.2"
  }
 },
 "nbformat": 4,
 "nbformat_minor": 1
}
