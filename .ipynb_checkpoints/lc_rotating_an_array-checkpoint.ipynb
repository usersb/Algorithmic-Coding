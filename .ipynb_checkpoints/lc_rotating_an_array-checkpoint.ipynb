{
 "cells": [
  {
   "cell_type": "code",
   "execution_count": 14,
   "metadata": {
    "collapsed": true
   },
   "outputs": [],
   "source": [
    "def reverse_arr(ip_arr,start,end):\n",
    "    while start < end:\n",
    "        ip_arr[start],ip_arr[end] = ip_arr[end],ip_arr[start]\n",
    "        start += 1\n",
    "        end -= 1"
   ]
  },
  {
   "cell_type": "code",
   "execution_count": 12,
   "metadata": {
    "collapsed": true
   },
   "outputs": [],
   "source": [
    "def rotate_array(ip_arr,k):\n",
    "    \n",
    "    k %= len(ip_arr)\n",
    "    reverse_arr(ip_arr,0,len(ip_arr)-1)\n",
    "    reverse_arr(ip_arr,0,k-1)\n",
    "    reverse_arr(ip_arr,k,len(ip_arr)-1)\n",
    "    "
   ]
  },
  {
   "cell_type": "code",
   "execution_count": 15,
   "metadata": {
    "collapsed": false
   },
   "outputs": [
    {
     "name": "stdout",
     "output_type": "stream",
     "text": [
      "[5, 6, 7, 1, 2, 3, 4]\n"
     ]
    }
   ],
   "source": [
    "ip = [1,2,3,4,5,6,7]\n",
    "rotate_array(ip,3)\n",
    "print(ip)"
   ]
  },
  {
   "cell_type": "code",
   "execution_count": 16,
   "metadata": {
    "collapsed": false
   },
   "outputs": [
    {
     "name": "stdout",
     "output_type": "stream",
     "text": [
      "[3, 99, -1, -100]\n"
     ]
    }
   ],
   "source": [
    "ip = [-1,-100,3,99]\n",
    "rotate_array(ip,2)\n",
    "print(ip)"
   ]
  },
  {
   "cell_type": "markdown",
   "metadata": {},
   "source": [
    "T.C: O(n) n elements are reversed a total of 3 i.e k times\n",
    "S.C: O(1) No extra space is used"
   ]
  }
 ],
 "metadata": {
  "kernelspec": {
   "display_name": "Python [conda env:py35]",
   "language": "python",
   "name": "conda-env-py35-py"
  },
  "language_info": {
   "codemirror_mode": {
    "name": "ipython",
    "version": 3
   },
   "file_extension": ".py",
   "mimetype": "text/x-python",
   "name": "python",
   "nbconvert_exporter": "python",
   "pygments_lexer": "ipython3",
   "version": "3.5.2"
  }
 },
 "nbformat": 4,
 "nbformat_minor": 1
}
