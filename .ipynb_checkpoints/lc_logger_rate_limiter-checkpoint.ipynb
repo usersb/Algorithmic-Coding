{
 "cells": [
  {
   "cell_type": "code",
   "execution_count": 50,
   "metadata": {
    "collapsed": false
   },
   "outputs": [],
   "source": [
    "import collections\n",
    "class Logger(object):\n",
    "    \n",
    "    def __init__(self):\n",
    "        #Initiialize data structure\n",
    "        self.printed_msg_dict = {}\n",
    "        \n",
    "    def shouldPrintMessage(self, timestamp, message):\n",
    "        #printed_msg_dict = {}\n",
    "#         Returns true if the message should be printed in the given timestamp, otherwise returns false.\n",
    "#         If this method returns false, the message will not be printed.\n",
    "#         The timestamp is in seconds granularity.\n",
    "#         :type timestamp: int\n",
    "#         :type message: str\n",
    "#         :rtype: bool\n",
    "         \n",
    "        if message in self.printed_msg_dict:\n",
    "            if (timestamp - self.printed_msg_dict[message]) < 10:\n",
    "                print(self.printed_msg_dict)\n",
    "                return False\n",
    "            else:\n",
    "                self.printed_msg_dict[message] = timestamp\n",
    "                print(self.printed_msg_dict)\n",
    "                return True\n",
    "        else:\n",
    "            self.printed_msg_dict[message] = timestamp\n",
    "        \n",
    "        \n",
    "        \n",
    "        print(self.printed_msg_dict)       \n",
    "        return True"
   ]
  },
  {
   "cell_type": "code",
   "execution_count": 51,
   "metadata": {
    "collapsed": false
   },
   "outputs": [
    {
     "name": "stdout",
     "output_type": "stream",
     "text": [
      "{'foo': 1}\n",
      "True\n"
     ]
    }
   ],
   "source": [
    "obj = Logger()\n",
    "should_print = obj.shouldPrintMessage(1,'foo')\n",
    "print(should_print)"
   ]
  },
  {
   "cell_type": "code",
   "execution_count": 52,
   "metadata": {
    "collapsed": false
   },
   "outputs": [
    {
     "name": "stdout",
     "output_type": "stream",
     "text": [
      "{'foo': 1, 'bar': 2}\n",
      "True\n"
     ]
    }
   ],
   "source": [
    "should_print = obj.shouldPrintMessage(2,'bar')\n",
    "print(should_print)"
   ]
  },
  {
   "cell_type": "code",
   "execution_count": 53,
   "metadata": {
    "collapsed": false
   },
   "outputs": [
    {
     "name": "stdout",
     "output_type": "stream",
     "text": [
      "{'foo': 1, 'bar': 2}\n",
      "False\n"
     ]
    }
   ],
   "source": [
    "should_print = obj.shouldPrintMessage(3,'foo')\n",
    "print(should_print)"
   ]
  },
  {
   "cell_type": "code",
   "execution_count": 54,
   "metadata": {
    "collapsed": false
   },
   "outputs": [
    {
     "name": "stdout",
     "output_type": "stream",
     "text": [
      "{'foo': 1, 'bar': 2}\n",
      "False\n"
     ]
    }
   ],
   "source": [
    "should_print = obj.shouldPrintMessage(8,'bar')\n",
    "print(should_print)"
   ]
  },
  {
   "cell_type": "code",
   "execution_count": 55,
   "metadata": {
    "collapsed": false
   },
   "outputs": [
    {
     "name": "stdout",
     "output_type": "stream",
     "text": [
      "{'foo': 1, 'bar': 2}\n",
      "False\n"
     ]
    }
   ],
   "source": [
    "should_print = obj.shouldPrintMessage(10,'foo')\n",
    "print(should_print)"
   ]
  },
  {
   "cell_type": "code",
   "execution_count": 56,
   "metadata": {
    "collapsed": false
   },
   "outputs": [
    {
     "name": "stdout",
     "output_type": "stream",
     "text": [
      "{'foo': 11, 'bar': 2}\n",
      "True\n"
     ]
    }
   ],
   "source": [
    "should_print = obj.shouldPrintMessage(11,'foo')\n",
    "print(should_print)"
   ]
  },
  {
   "cell_type": "code",
   "execution_count": 23,
   "metadata": {
    "collapsed": true
   },
   "outputs": [],
   "source": [
    "def shouldPrintMessage1(timestamp, message):\n",
    "        printed_msg_dict = {}\n",
    "#         Returns true if the message should be printed in the given timestamp, otherwise returns false.\n",
    "#         If this method returns false, the message will not be printed.\n",
    "#         The timestamp is in seconds granularity.\n",
    "#         :type timestamp: int\n",
    "#         :type message: str\n",
    "#         :rtype: bool\n",
    "        \n",
    "        \n",
    "        if message in printed_msg_dict:\n",
    "            if (timestamp - printed_msg_dict[message]) <= 10:\n",
    "                return False\n",
    "            else:\n",
    "                printed_msg_dict[message] = timestamp\n",
    "        \n",
    "        print(printed_msg_dict)        \n",
    "        \n",
    "        return True"
   ]
  },
  {
   "cell_type": "code",
   "execution_count": 25,
   "metadata": {
    "collapsed": false
   },
   "outputs": [
    {
     "name": "stdout",
     "output_type": "stream",
     "text": [
      "{}\n",
      "True\n"
     ]
    }
   ],
   "source": [
    "should_print = shouldPrintMessage1(1,'foo')\n",
    "print(should_print)"
   ]
  },
  {
   "cell_type": "code",
   "execution_count": null,
   "metadata": {
    "collapsed": true
   },
   "outputs": [],
   "source": []
  }
 ],
 "metadata": {
  "kernelspec": {
   "display_name": "Python [conda env:py35]",
   "language": "python",
   "name": "conda-env-py35-py"
  },
  "language_info": {
   "codemirror_mode": {
    "name": "ipython",
    "version": 3
   },
   "file_extension": ".py",
   "mimetype": "text/x-python",
   "name": "python",
   "nbconvert_exporter": "python",
   "pygments_lexer": "ipython3",
   "version": "3.5.2"
  }
 },
 "nbformat": 4,
 "nbformat_minor": 1
}
