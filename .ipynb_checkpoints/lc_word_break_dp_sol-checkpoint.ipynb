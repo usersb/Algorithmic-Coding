{
 "cells": [
  {
   "cell_type": "markdown",
   "metadata": {},
   "source": [
    "Intuition for this Dynamic programming solution -\n",
    "\n",
    "The idea is the following:\n",
    "\n",
    "d is an array that contains booleans\n",
    "\n",
    "d[i] is True if there is a word in the dictionary that ends at ith index of s AND d is also True at the beginning of the word\n",
    "\n",
    "Example:\n",
    "\n",
    "s = \"leetcode\"\n",
    "\n",
    "words = [\"leet\", \"code\"]\n",
    "\n",
    "d[3] is True because there is \"leet\" in the dictionary that ends at 3rd index of \"leetcode\"\n",
    "\n",
    "d[7] is True because there is \"code\" in the dictionary that ends at the 7th index of \"leetcode\" AND d[3] is True\n",
    "\n",
    "The result is the last index of d."
   ]
  },
  {
   "cell_type": "code",
   "execution_count": 33,
   "metadata": {
    "collapsed": false
   },
   "outputs": [],
   "source": [
    "def wordBreak(s, wordDict):\n",
    "    n = len(s)\n",
    "    dp = [False for i in range(n+1)]\n",
    "    dp[0] = True\n",
    "    for i in range(1,n+1):\n",
    "        for w in wordDict:\n",
    "            if dp[i-len(w)] and s[i-len(w):i]==w:\n",
    "                dp[i]=True\n",
    "    return dp[-1]"
   ]
  },
  {
   "cell_type": "code",
   "execution_count": 34,
   "metadata": {
    "collapsed": false
   },
   "outputs": [
    {
     "data": {
      "text/plain": [
       "True"
      ]
     },
     "execution_count": 34,
     "metadata": {},
     "output_type": "execute_result"
    }
   ],
   "source": [
    "s = \"leetcode\"\n",
    "wordDict = [\"leet\", \"code\"]\n",
    "\n",
    "wordBreak(s,wordDict)"
   ]
  },
  {
   "cell_type": "code",
   "execution_count": 21,
   "metadata": {
    "collapsed": true
   },
   "outputs": [],
   "source": [
    "class Solution:\n",
    "    # @param s, a string\n",
    "    # @param dict, a set of string\n",
    "    # @return a boolean\n",
    "    def wordBreak(s, dict):\n",
    "        n = len(s)\n",
    "        f = [False for i in range(n+1)]\n",
    "        f[0] = True\n",
    "        for i in range(n):\n",
    "            print(\"i:%d\" %i)\n",
    "            if f[i]:\n",
    "                for j in dict:\n",
    "                    print(\"j:%s\" %j)\n",
    "                    l = len(j)\n",
    "                    print(\"s[i:i+l]:%s\" %s[i:i+l])\n",
    "                    if i+l<=n and s[i:i+l] == j:\n",
    "                        f[i+l] = True\n",
    "                        print(f)\n",
    "        return f[n]"
   ]
  },
  {
   "cell_type": "code",
   "execution_count": 22,
   "metadata": {
    "collapsed": false
   },
   "outputs": [
    {
     "name": "stdout",
     "output_type": "stream",
     "text": [
      "i:0\n",
      "j:leet\n",
      "s[i:i+l]:leet\n",
      "[True, False, False, False, True, False, False, False, False]\n",
      "j:code\n",
      "s[i:i+l]:leet\n",
      "i:1\n",
      "i:2\n",
      "i:3\n",
      "i:4\n",
      "j:leet\n",
      "s[i:i+l]:code\n",
      "j:code\n",
      "s[i:i+l]:code\n",
      "[True, False, False, False, True, False, False, False, True]\n",
      "i:5\n",
      "i:6\n",
      "i:7\n"
     ]
    },
    {
     "data": {
      "text/plain": [
       "True"
      ]
     },
     "execution_count": 22,
     "metadata": {},
     "output_type": "execute_result"
    }
   ],
   "source": [
    "s = \"leetcode\"\n",
    "wordDict = [\"leet\", \"code\"]\n",
    "\n",
    "Solution.wordBreak(s,wordDict)"
   ]
  },
  {
   "cell_type": "code",
   "execution_count": 23,
   "metadata": {
    "collapsed": false
   },
   "outputs": [
    {
     "name": "stdout",
     "output_type": "stream",
     "text": [
      "i:0\n",
      "j:cats\n",
      "s[i:i+l]:cats\n",
      "[True, False, False, False, True, False, False, False, False, False]\n",
      "j:dog\n",
      "s[i:i+l]:cat\n",
      "j:sand\n",
      "s[i:i+l]:cats\n",
      "j:and\n",
      "s[i:i+l]:cat\n",
      "j:cat\n",
      "s[i:i+l]:cat\n",
      "[True, False, False, True, True, False, False, False, False, False]\n",
      "i:1\n",
      "i:2\n",
      "i:3\n",
      "j:cats\n",
      "s[i:i+l]:sand\n",
      "j:dog\n",
      "s[i:i+l]:san\n",
      "j:sand\n",
      "s[i:i+l]:sand\n",
      "[True, False, False, True, True, False, False, True, False, False]\n",
      "j:and\n",
      "s[i:i+l]:san\n",
      "j:cat\n",
      "s[i:i+l]:san\n",
      "i:4\n",
      "j:cats\n",
      "s[i:i+l]:ando\n",
      "j:dog\n",
      "s[i:i+l]:and\n",
      "j:sand\n",
      "s[i:i+l]:ando\n",
      "j:and\n",
      "s[i:i+l]:and\n",
      "[True, False, False, True, True, False, False, True, False, False]\n",
      "j:cat\n",
      "s[i:i+l]:and\n",
      "i:5\n",
      "i:6\n",
      "i:7\n",
      "j:cats\n",
      "s[i:i+l]:og\n",
      "j:dog\n",
      "s[i:i+l]:og\n",
      "j:sand\n",
      "s[i:i+l]:og\n",
      "j:and\n",
      "s[i:i+l]:og\n",
      "j:cat\n",
      "s[i:i+l]:og\n",
      "i:8\n"
     ]
    },
    {
     "data": {
      "text/plain": [
       "False"
      ]
     },
     "execution_count": 23,
     "metadata": {},
     "output_type": "execute_result"
    }
   ],
   "source": [
    "s = \"catsandog\"\n",
    "wordDict = [\"cats\", \"dog\", \"sand\", \"and\", \"cat\"]\n",
    "\n",
    "Solution.wordBreak(s,wordDict)"
   ]
  },
  {
   "cell_type": "code",
   "execution_count": 6,
   "metadata": {
    "collapsed": false
   },
   "outputs": [
    {
     "data": {
      "text/plain": [
       "True"
      ]
     },
     "execution_count": 6,
     "metadata": {},
     "output_type": "execute_result"
    }
   ],
   "source": [
    "s = \"applepenapple\"\n",
    "wordDict = [\"apple\", \"pen\"]\n",
    "\n",
    "Solution.wordBreak(s,wordDict)"
   ]
  },
  {
   "cell_type": "code",
   "execution_count": 26,
   "metadata": {
    "collapsed": true
   },
   "outputs": [],
   "source": [
    "def wordbreak(s,dict):\n",
    "    n= len(s)\n",
    "    \n",
    "    #Create and array f of size n initialized with False\n",
    "    f = [False for i in range(n+1)]\n",
    "    f[0] = True\n",
    "    \n",
    "    #For the range of the size of string s\n",
    "    for i in range(n):\n",
    "        #for every word in the dict\n",
    "        for j in dict:\n",
    "            #check the len of the first word in dict\n",
    "            l = len(j)\n",
    "            #check if i+length of word in dict is less than string len \n",
    "            #and the word from dict matches those many chars from string\n",
    "            if (i+l <= n) and (s[i:i+l]==j):\n",
    "                #If a matching word is found update the value of f[i+l] to True indicating that the word \n",
    "                #of len i+l was found in the string which matches a word from dict\n",
    "                f[i+l] = True\n",
    "                #In the next iteration of this for loop, try to find the next word from dict in the string s \n",
    "                \n",
    "    return f[n]"
   ]
  },
  {
   "cell_type": "code",
   "execution_count": 28,
   "metadata": {
    "collapsed": false
   },
   "outputs": [
    {
     "data": {
      "text/plain": [
       "True"
      ]
     },
     "execution_count": 28,
     "metadata": {},
     "output_type": "execute_result"
    }
   ],
   "source": [
    "s = \"applepenapple\"\n",
    "wordDict = [\"apple\", \"pen\"]\n",
    "\n",
    "wordbreak(s,wordDict)"
   ]
  },
  {
   "cell_type": "markdown",
   "metadata": {},
   "source": [
    "T.C. O(n* worddict size*avg size of word)\n",
    "S.C. O(n) for the array of size n"
   ]
  }
 ],
 "metadata": {
  "kernelspec": {
   "display_name": "Python [conda env:py35]",
   "language": "python",
   "name": "conda-env-py35-py"
  },
  "language_info": {
   "codemirror_mode": {
    "name": "ipython",
    "version": 3
   },
   "file_extension": ".py",
   "mimetype": "text/x-python",
   "name": "python",
   "nbconvert_exporter": "python",
   "pygments_lexer": "ipython3",
   "version": "3.5.2"
  }
 },
 "nbformat": 4,
 "nbformat_minor": 1
}
