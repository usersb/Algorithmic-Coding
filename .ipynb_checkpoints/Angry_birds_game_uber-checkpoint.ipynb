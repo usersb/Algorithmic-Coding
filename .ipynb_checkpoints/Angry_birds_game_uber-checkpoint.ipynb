{
 "cells": [
  {
   "cell_type": "code",
   "execution_count": 1,
   "metadata": {
    "collapsed": false
   },
   "outputs": [
    {
     "name": "stderr",
     "output_type": "stream",
     "text": [
      "/Users/Sonal/Library/Jupyter/runtime/kernel-0b235fd0-bc10-400d-b2a7-95cb80bbe39f (unittest.loader._FailedTest) ... ERROR\n",
      "\n",
      "======================================================================\n",
      "ERROR: /Users/Sonal/Library/Jupyter/runtime/kernel-0b235fd0-bc10-400d-b2a7-95cb80bbe39f (unittest.loader._FailedTest)\n",
      "----------------------------------------------------------------------\n",
      "AttributeError: module '__main__' has no attribute '/Users/Sonal/Library/Jupyter/runtime/kernel-0b235fd0-bc10-400d-b2a7-95cb80bbe39f'\n",
      "\n",
      "----------------------------------------------------------------------\n",
      "Ran 1 test in 0.002s\n",
      "\n",
      "FAILED (errors=1)\n"
     ]
    },
    {
     "ename": "SystemExit",
     "evalue": "True",
     "output_type": "error",
     "traceback": [
      "An exception has occurred, use %tb to see the full traceback.\n",
      "\u001b[0;31mSystemExit\u001b[0m\u001b[0;31m:\u001b[0m True\n"
     ]
    },
    {
     "name": "stderr",
     "output_type": "stream",
     "text": [
      "/Users/Sonal/anaconda/envs/py35/lib/python3.5/site-packages/IPython/core/interactiveshell.py:2889: UserWarning: To exit: use 'exit', 'quit', or Ctrl-D.\n",
      "  warn(\"To exit: use 'exit', 'quit', or Ctrl-D.\", stacklevel=1)\n"
     ]
    }
   ],
   "source": [
    "import unittest\n",
    "\n",
    "\n",
    "def sort_scores(unsorted_scores, highest_possible_score):\n",
    "\n",
    "    # Sort the scores in O(n) time\n",
    "    score_counts = [None] * 100\n",
    "    #print(score_counts)\n",
    "    #print(len(score_counts))\n",
    "    \n",
    "    for num in unsorted_scores:\n",
    "        if score_counts[num] == None:\n",
    "            score_counts[num] = 1\n",
    "        else:\n",
    "            score_counts[num] += 1\n",
    "    \n",
    "    #print(score_counts)\n",
    "    \n",
    "    sorted_scores = []\n",
    "    for index,value in reversed(list(enumerate(score_counts))):\n",
    "        if score_counts[index] != None:\n",
    "            for times in range(value):\n",
    "                sorted_scores.append(index)\n",
    "    \n",
    "    print(sorted_scores)\n",
    "    return(sorted_scores)\n",
    "\n"
   ]
  },
  {
   "cell_type": "code",
   "execution_count": null,
   "metadata": {
    "collapsed": true
   },
   "outputs": [],
   "source": [
    "\n",
    "# Tests\n",
    "\n",
    "class Test(unittest.TestCase):\n",
    "\n",
    "    def test_no_scores(self):\n",
    "        actual = sort_scores([], 100)\n",
    "        expected = []\n",
    "        self.assertEqual(actual, expected)\n",
    "\n",
    "    def test_one_score(self):\n",
    "        actual = sort_scores([55], 100)\n",
    "        expected = [55]\n",
    "        self.assertEqual(actual, expected)\n",
    "\n",
    "    def test_two_scores(self):\n",
    "        actual = sort_scores([30, 60], 100)\n",
    "        expected = [60, 30]\n",
    "        self.assertEqual(actual, expected)\n",
    "\n",
    "    def test_many_scores(self):\n",
    "        actual = sort_scores([37, 89, 41, 65, 91, 53], 100)\n",
    "        expected = [91, 89, 65, 53, 41, 37]\n",
    "        self.assertEqual(actual, expected)\n",
    "\n",
    "    def test_repeated_scores(self):\n",
    "        actual = sort_scores([20, 10, 30, 30, 10, 20], 100)\n",
    "        expected = [30, 30, 20, 20, 10, 10]\n",
    "        self.assertEqual(actual, expected)\n",
    "\n",
    "\n",
    "unittest.main(verbosity=2)"
   ]
  }
 ],
 "metadata": {
  "anaconda-cloud": {},
  "kernelspec": {
   "display_name": "Python [conda env:py35]",
   "language": "python",
   "name": "conda-env-py35-py"
  },
  "language_info": {
   "codemirror_mode": {
    "name": "ipython",
    "version": 3
   },
   "file_extension": ".py",
   "mimetype": "text/x-python",
   "name": "python",
   "nbconvert_exporter": "python",
   "pygments_lexer": "ipython3",
   "version": "3.5.2"
  }
 },
 "nbformat": 4,
 "nbformat_minor": 1
}
