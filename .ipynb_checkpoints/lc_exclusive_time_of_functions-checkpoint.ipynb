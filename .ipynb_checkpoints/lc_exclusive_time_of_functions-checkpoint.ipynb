{
 "cells": [
  {
   "cell_type": "markdown",
   "metadata": {},
   "source": [
    "n = 2\n",
    "logs = [\"0:start:0\",\n",
    " \"1:start:2\",\n",
    " \"1:end:5\",\n",
    " \"0:end:6\"]\n",
    "\n",
    "Output:[3, 4]\n",
    "Explanation:\n",
    "Function 0 starts at time 0, then it executes 2 units of time(0,1) and reaches the end of time 1. \n",
    "Now function 0 calls function 1, function 1 starts at time 2, executes 4 units of time (2,3,4,5) and end at time 5.\n",
    "Function 0 is running again at time 6, and also end at the time 6, thus executes 1 unit of time (6). \n",
    "So function 0 totally execute 2 + 1 = 3 units of time, and function 1 totally execute 4 units of time.\n",
    "\n",
    "\n",
    "Note:\n",
    "Input logs will be sorted by timestamp, NOT log id.\n",
    "Your output should be sorted by function id, which means the 0th element of your output corresponds to the exclusive time of function 0.\n",
    "Two functions won't start or end at the same time.\n",
    "Functions could be called recursively, and will always end.\n",
    "1 <= n <= 100"
   ]
  },
  {
   "cell_type": "markdown",
   "metadata": {},
   "source": [
    "Intuition:\n",
    "\n",
    "similar to the closing openning backet problems, where there's nesting, stack is required\n",
    "nested function time need to be deducted from the parent time, therefore update the parent function with negative children's time\n",
    "Each time a function finishes, the time span needs to be added to the function slot in the outputs array"
   ]
  },
  {
   "cell_type": "code",
   "execution_count": 36,
   "metadata": {
    "collapsed": true
   },
   "outputs": [],
   "source": [
    "class Solution(object):\n",
    "    def exclusiveTime(n, logs):\n",
    "        \"\"\"\n",
    "        :type n: int\n",
    "        :type logs: List[str]\n",
    "        :rtype: List[int]\n",
    "        \"\"\"\n",
    "        outputs = [0]*n\n",
    "        stack = [] # holds f_id, time stamp\n",
    "        \n",
    "        for s in logs:\n",
    "            print(s)\n",
    "            tokens = s.split(\":\")\n",
    "            print(tokens)\n",
    "            f_id, state, time = int(tokens[0]), tokens[1], int(tokens[2])\n",
    "            if state == \"start\":\n",
    "                stack.append((f_id, time))\n",
    "                print('stack:%s'  %stack)\n",
    "            else:\n",
    "                f_id_end, time_start = stack.pop()\n",
    "                print('f_id_end: %d' %f_id_end)\n",
    "                print('time_start: %d' % time_start)\n",
    "                \n",
    "                time_diff = time - time_start + 1\n",
    "                print('time_diff:%d' %time_diff)\n",
    "                \n",
    "                outputs[f_id_end] += time_diff\n",
    "                print('outputs:%s' %outputs)\n",
    "                print('len stack:%d' %len(stack))\n",
    "                if len(stack) > 0:\n",
    "                    # deduct from previous fn time \n",
    "                    print('stack[-1][0]:%d' %stack[-1][0])\n",
    "                    outputs[stack[-1][0]] += -time_diff\n",
    "                    print('outputs:%s' %outputs)\n",
    "        return outputs "
   ]
  },
  {
   "cell_type": "code",
   "execution_count": 37,
   "metadata": {
    "collapsed": false
   },
   "outputs": [
    {
     "name": "stdout",
     "output_type": "stream",
     "text": [
      "0:start:0\n",
      "['0', 'start', '0']\n",
      "stack:[(0, 0)]\n",
      "1:start:2\n",
      "['1', 'start', '2']\n",
      "stack:[(0, 0), (1, 2)]\n",
      "1:end:5\n",
      "['1', 'end', '5']\n",
      "f_id_end: 1\n",
      "time_start: 2\n",
      "time_diff:4\n",
      "outputs:[0, 4]\n",
      "len stack:1\n",
      "stack[-1][0]:0\n",
      "outputs:[-4, 4]\n",
      "0:end:6\n",
      "['0', 'end', '6']\n",
      "f_id_end: 0\n",
      "time_start: 0\n",
      "time_diff:7\n",
      "outputs:[3, 4]\n",
      "len stack:0\n",
      "[3, 4]\n"
     ]
    }
   ],
   "source": [
    "n = 2\n",
    "logs = [\"0:start:0\",\n",
    " \"1:start:2\",\n",
    " \"1:end:5\",\n",
    " \"0:end:6\"]\n",
    "\n",
    "result = Solution.exclusiveTime(n,logs)\n",
    "print(result)"
   ]
  },
  {
   "cell_type": "code",
   "execution_count": 43,
   "metadata": {
    "collapsed": false
   },
   "outputs": [],
   "source": [
    "def exclusive_time_of_function(n,logs):\n",
    "    \n",
    "    outputs = [0] * n\n",
    "    stack = []\n",
    "    \n",
    "    for s in logs:\n",
    "        tokens = s.split(':')\n",
    "        \n",
    "        f_id,status,time = int(tokens[0]), tokens[1], int(tokens[2])\n",
    "    \n",
    "        if status == 'start':\n",
    "            stack.append((f_id, time))\n",
    "        else:\n",
    "            f_id_end, timestart = stack.pop()\n",
    "            time_diff = time - timestart + 1\n",
    "        \n",
    "            outputs[f_id_end] += time_diff\n",
    "        \n",
    "            if len(stack)>0:\n",
    "                outputs[stack[-1][0]] += -time_diff\n",
    "            \n",
    "    return outputs"
   ]
  },
  {
   "cell_type": "code",
   "execution_count": 44,
   "metadata": {
    "collapsed": false
   },
   "outputs": [
    {
     "name": "stdout",
     "output_type": "stream",
     "text": [
      "[3, 4]\n"
     ]
    }
   ],
   "source": [
    "n = 2\n",
    "logs = [\"0:start:0\",\n",
    " \"1:start:2\",\n",
    " \"1:end:5\",\n",
    " \"0:end:6\"]\n",
    "\n",
    "result = exclusive_time_of_function(n,logs)\n",
    "print(result)"
   ]
  },
  {
   "cell_type": "code",
   "execution_count": null,
   "metadata": {
    "collapsed": true
   },
   "outputs": [],
   "source": []
  }
 ],
 "metadata": {
  "kernelspec": {
   "display_name": "Python [conda env:py35]",
   "language": "python",
   "name": "conda-env-py35-py"
  },
  "language_info": {
   "codemirror_mode": {
    "name": "ipython",
    "version": 3
   },
   "file_extension": ".py",
   "mimetype": "text/x-python",
   "name": "python",
   "nbconvert_exporter": "python",
   "pygments_lexer": "ipython3",
   "version": "3.5.2"
  }
 },
 "nbformat": 4,
 "nbformat_minor": 1
}
