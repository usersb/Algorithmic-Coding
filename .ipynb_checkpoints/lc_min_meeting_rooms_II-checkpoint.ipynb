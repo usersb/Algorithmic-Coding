{
 "cells": [
  {
   "cell_type": "markdown",
   "metadata": {},
   "source": [
    "\n",
    "Key idea: If a meeting starts while another meeting is not ended, we need an additional room.\n",
    "\n",
    "Therefore, if we have two sorted arrays, one indicates when meetings start, another indicates when meeting end. We can get the answer by iterating the starting time array, in the mean time compare with ending time array.\n",
    "\n",
    "More detail explanation of doing comparison by iterate through starting-time-array:\n",
    "\n",
    "We maintain two pointers, start_ptr and end_ptr.\n",
    "For each iteration, start_ptr will +1, but, only when the value of start_ptr is greater than end_ptr, will end_ptr +1\n",
    "The meaning of +1 to start_ptr and end_ptr:\n",
    "\n",
    "For start_ptr, idea of +1 is simple, means we move to next meeting\n",
    "For end_ptr, +1 means we reuse the previous used room --> can think of that a meeting has ended, so there is a spare room.\n",
    "The bottle-neck of complexity is 'sort', so time complexity is O(nlogn)"
   ]
  },
  {
   "cell_type": "code",
   "execution_count": 14,
   "metadata": {
    "collapsed": true
   },
   "outputs": [],
   "source": [
    "class Solution:\n",
    "    def minMeetingRooms(intervals):\n",
    "        \n",
    "        if len(intervals) == 0: return 0\n",
    "        \n",
    "        starting = sorted([i[0] for i in intervals]) #contains sorted values of all start times\n",
    "        ending = sorted([i[1] for i in intervals])   #contains sorted values of all end times\n",
    "        \n",
    "        start_ptr, end_ptr = 0, 0\n",
    "        rooms = 0\n",
    "        while start_ptr < len(starting):\n",
    "            if starting[start_ptr] >= ending[end_ptr]:\n",
    "                #i.e. meeting ended and now we have a spare room so we don't increment room\n",
    "                end_ptr += 1\n",
    "            else:\n",
    "                #i.e we don't have a spare room so we need a new room and increment room\n",
    "                rooms += 1\n",
    "            start_ptr += 1  # we move to the next meeting\n",
    "        return rooms"
   ]
  },
  {
   "cell_type": "code",
   "execution_count": 17,
   "metadata": {
    "collapsed": false
   },
   "outputs": [
    {
     "name": "stdout",
     "output_type": "stream",
     "text": [
      "2\n"
     ]
    }
   ],
   "source": [
    "intervals = [[0, 30],[5, 10],[15, 20]]\n",
    "result = Solution.minMeetingRooms(intervals)\n",
    "print(result)"
   ]
  },
  {
   "cell_type": "code",
   "execution_count": 19,
   "metadata": {
    "collapsed": false
   },
   "outputs": [
    {
     "name": "stdout",
     "output_type": "stream",
     "text": [
      "1\n"
     ]
    }
   ],
   "source": [
    "intervals = [[7,10],[2,4]]\n",
    "result = Solution.minMeetingRooms(intervals)\n",
    "print(result)   "
   ]
  },
  {
   "cell_type": "code",
   "execution_count": null,
   "metadata": {
    "collapsed": true
   },
   "outputs": [],
   "source": []
  }
 ],
 "metadata": {
  "anaconda-cloud": {},
  "kernelspec": {
   "display_name": "Python [conda env:py35]",
   "language": "python",
   "name": "conda-env-py35-py"
  },
  "language_info": {
   "codemirror_mode": {
    "name": "ipython",
    "version": 3
   },
   "file_extension": ".py",
   "mimetype": "text/x-python",
   "name": "python",
   "nbconvert_exporter": "python",
   "pygments_lexer": "ipython3",
   "version": "3.5.2"
  }
 },
 "nbformat": 4,
 "nbformat_minor": 1
}
