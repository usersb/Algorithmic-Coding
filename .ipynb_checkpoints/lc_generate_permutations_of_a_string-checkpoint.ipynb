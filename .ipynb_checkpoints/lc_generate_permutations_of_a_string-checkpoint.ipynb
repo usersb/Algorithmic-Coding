{
 "cells": [
  {
   "cell_type": "code",
   "execution_count": 11,
   "metadata": {
    "collapsed": false
   },
   "outputs": [],
   "source": [
    "def get_permutations(string):\n",
    "    # Base case\n",
    "    if len(string) <= 1:\n",
    "        return set([string])\n",
    "\n",
    "    all_chars_except_last = string[:-1]\n",
    "    last_char = string[-1]\n",
    "\n",
    "    # Recursive call: get all possible permutations for all chars except last\n",
    "    permutations_of_all_chars_except_last = get_permutations(all_chars_except_last)\n",
    "\n",
    "    # Put the last char in all possible positions for each of\n",
    "    # the above permutations\n",
    "    permutations = set()\n",
    "    for permutation_of_all_chars_except_last in permutations_of_all_chars_except_last:\n",
    "        for position in range(len(all_chars_except_last) + 1):\n",
    "            permutation = (\n",
    "                permutation_of_all_chars_except_last[:position]\n",
    "                + last_char\n",
    "                + permutation_of_all_chars_except_last[position:]\n",
    "            )\n",
    "            permutations.add(permutation)\n",
    "\n",
    "    return permutations"
   ]
  },
  {
   "cell_type": "code",
   "execution_count": 12,
   "metadata": {
    "collapsed": false
   },
   "outputs": [
    {
     "name": "stdout",
     "output_type": "stream",
     "text": [
      "{'aabb', 'abba', 'baab', 'baba', 'abab', 'bbaa'}\n"
     ]
    }
   ],
   "source": [
    "res = get_permutations('aabb')\n",
    "print(res)"
   ]
  },
  {
   "cell_type": "code",
   "execution_count": null,
   "metadata": {
    "collapsed": true
   },
   "outputs": [],
   "source": [
    "madam"
   ]
  },
  {
   "cell_type": "code",
   "execution_count": 16,
   "metadata": {
    "collapsed": false
   },
   "outputs": [],
   "source": [
    "def get_permutations(string):\n",
    "    #Base Case\n",
    "    if len(string) <= 1:\n",
    "        return set([string])\n",
    "    \n",
    "    #separate the last char from the rest ofthe characters in the string\n",
    "    all_chars_except_last = string[:-1]\n",
    "    last_char = string[-1]\n",
    "    \n",
    "    #Make a recursive call on all_chars_except_last to get all permutations of that string\n",
    "    permutations_of_all_chars_except_last = get_permutations(all_chars_except_last)\n",
    "    \n",
    "    #On getting permutations of all chars except last, insert the last character at each of the possible positions \n",
    "    # for each of the permutation and add the permutation to the set\n",
    "    \n",
    "    permutations = set()\n",
    "    \n",
    "    for permutation_of_all_chars_except_last in permutations_of_all_chars_except_last:\n",
    "        for position in range(len(all_chars_except_last) +1):\n",
    "            permutation = (permutation_of_all_chars_except_last[:position]+\n",
    "                            last_char +\n",
    "                          permutation_of_all_chars_except_last[position:])\n",
    "                    \n",
    "            permutations.add(permutation)\n",
    "        \n",
    "    return permutations"
   ]
  },
  {
   "cell_type": "code",
   "execution_count": 17,
   "metadata": {
    "collapsed": false
   },
   "outputs": [
    {
     "name": "stdout",
     "output_type": "stream",
     "text": [
      "{'aabb', 'abba', 'baab', 'baba', 'abab', 'bbaa'}\n"
     ]
    }
   ],
   "source": [
    "res = get_permutations('aabb')\n",
    "print(res)"
   ]
  },
  {
   "cell_type": "code",
   "execution_count": null,
   "metadata": {
    "collapsed": true
   },
   "outputs": [],
   "source": [
    "#aabb  [\"abba\", \"baab\"]"
   ]
  }
 ],
 "metadata": {
  "kernelspec": {
   "display_name": "Python [conda env:py35]",
   "language": "python",
   "name": "conda-env-py35-py"
  },
  "language_info": {
   "codemirror_mode": {
    "name": "ipython",
    "version": 3
   },
   "file_extension": ".py",
   "mimetype": "text/x-python",
   "name": "python",
   "nbconvert_exporter": "python",
   "pygments_lexer": "ipython3",
   "version": "3.5.2"
  }
 },
 "nbformat": 4,
 "nbformat_minor": 1
}
