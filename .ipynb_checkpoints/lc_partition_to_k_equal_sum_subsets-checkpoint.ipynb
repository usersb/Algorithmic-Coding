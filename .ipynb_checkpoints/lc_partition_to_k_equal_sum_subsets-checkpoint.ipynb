{
 "cells": [
  {
   "cell_type": "code",
   "execution_count": 3,
   "metadata": {
    "collapsed": true
   },
   "outputs": [],
   "source": [
    "class Solution(object):\n",
    "    def canPartitionKSubsets(self, nums, k):\n",
    "         # trivial case one subset\n",
    "        if k==1: return True\n",
    "        # trivial case, k must be k<=n\n",
    "        n= len(nums)\n",
    "        if k>n: return False\n",
    "        # k*target = sum(nums)\n",
    "        total = sum(nums)\n",
    "        if total%k: return False\n",
    "        \n",
    "        target = total/k\n",
    "        seen = [0]*n\n",
    "        # speeds things up, as larger numbers are tried first if its not possible\n",
    "        # to get k subsets we will know sooner\n",
    "        nums.sort(reverse=True)\n",
    "        \n",
    "        def dfs(k,index,current_sum):\n",
    "            # trivial, one group\n",
    "            if k==1: return True\n",
    "            # found one group, need more k-1 groups\n",
    "            if current_sum == target:\n",
    "                return dfs(k-1,0,0)\n",
    "            # group can start with any number\n",
    "            for i in range(index,n):\n",
    "                # if we have not tried it before, and adding it \n",
    "                # to current sum does not exceed target then\n",
    "                print(seen[i])\n",
    "                print(current_sum+nums[i])\n",
    "                if not seen[i] and current_sum+nums[i]<=target:\n",
    "                    # we have seen it \n",
    "                    seen[i]=1\n",
    "                    print(seen)\n",
    "                    # recursively build group from i+1\n",
    "                    if dfs(k,i+1,current_sum+nums[i]):\n",
    "                        return True\n",
    "                    seen[i]=0\n",
    "                    print(seen)\n",
    "            return False\n",
    "        \n",
    "        return dfs(k,0,0)"
   ]
  },
  {
   "cell_type": "code",
   "execution_count": 5,
   "metadata": {
    "collapsed": false
   },
   "outputs": [
    {
     "name": "stdout",
     "output_type": "stream",
     "text": [
      "0\n",
      "4\n",
      "[1, 0, 0, 0]\n",
      "0\n",
      "7\n",
      "0\n",
      "6\n",
      "0\n",
      "5\n",
      "[1, 0, 0, 1]\n",
      "True\n"
     ]
    }
   ],
   "source": [
    "nums = [4, 3, 2, 1]\n",
    "k = 2\n",
    "\n",
    "obj = Solution()\n",
    "result = obj.canPartitionKSubsets(nums,k)\n",
    "print(result)"
   ]
  },
  {
   "cell_type": "code",
   "execution_count": null,
   "metadata": {
    "collapsed": true
   },
   "outputs": [],
   "source": [
    "class Solution(object):\n",
    "    \n",
    "    def canPartitionKSubsets(self,nums,k):\n",
    "        # trivial case, one subset\n",
    "        if k == 1: return True\n",
    "        \n",
    "        n = len(nums)\n",
    "        \n",
    "        # trivial case, k must be k<=n\n",
    "        if k < n: return False\n",
    "        \n",
    "        #target = sum(nums) / k\n",
    "        total = sum(nums)\n",
    "        if total%k: return False\n",
    "        target = total/k\n",
    "        \n",
    "        seen = [0]*n\n",
    "        \n",
    "        # speeds things up, as larger numbers are tried first if its not possible\n",
    "        # to get k subsets we will know sooner\n",
    "        nums.sort(reverse=True)\n",
    "        \n",
    "        def dfs(k,index,current_sum):\n",
    "            # trivial, one subset\n",
    "            if k == 1: return True\n",
    "            \n",
    "            if current_sum == target:\n",
    "                #found one group, need to find k-1 groups\n",
    "                return dfs(k-1,0,0)\n",
    "            \n",
    "            #group can start with any number\n",
    "            for i in range(index,n):\n",
    "                #if we have not seen it and adding it to current_sum \n",
    "                #does not exceed target then\n",
    "                if not seen[i] and current_sum[i]+num[i] <= target:\n",
    "                    #we have seen it\n",
    "                    seen[i]=1\n",
    "                    #Recursively build group from i+1\n",
    "                    if dfs(k,i+1,current_sum+nums[i]):\n",
    "                        return True\n",
    "                    seen[i] = 0\n",
    "            return False\n",
    "            \n",
    "            \n",
    "        return dfs(k,0,0)\n",
    "        "
   ]
  }
 ],
 "metadata": {
  "kernelspec": {
   "display_name": "Python [conda env:py35]",
   "language": "python",
   "name": "conda-env-py35-py"
  },
  "language_info": {
   "codemirror_mode": {
    "name": "ipython",
    "version": 3
   },
   "file_extension": ".py",
   "mimetype": "text/x-python",
   "name": "python",
   "nbconvert_exporter": "python",
   "pygments_lexer": "ipython3",
   "version": "3.5.2"
  }
 },
 "nbformat": 4,
 "nbformat_minor": 1
}
