{
 "cells": [
  {
   "cell_type": "code",
   "execution_count": 6,
   "metadata": {
    "collapsed": true
   },
   "outputs": [],
   "source": [
    "def square_in_place(int_list):\n",
    "    \n",
    "    for index,item in enumerate(int_list):\n",
    "        int_list[index] *= item\n",
    "    \n",
    "    # NOTE: We could make this function just return, since\n",
    "    # we modify int_list in place.\n",
    "    return int_list\n",
    "\n",
    "\n",
    "def square_out_of_place(int_list):\n",
    "    \n",
    "    squared_list = [None] * len(int_list)\n",
    "    \n",
    "    for index,item in enumerate(int_list):\n",
    "        squared_list[index] = item ** 2\n",
    "        \n",
    "    return squared_list"
   ]
  },
  {
   "cell_type": "code",
   "execution_count": 8,
   "metadata": {
    "collapsed": false
   },
   "outputs": [
    {
     "name": "stdout",
     "output_type": "stream",
     "text": [
      "in-place - \n",
      "Original list: [1, 4, 9, 16, 25]\n",
      "Squared list: [1, 4, 9, 16, 25]\n",
      "out-of-place - \n",
      "Original list: [1, 4, 9, 16, 25]\n",
      "Squared list: [1, 16, 81, 256, 625]\n"
     ]
    }
   ],
   "source": [
    "original_list = [1,2,3,4,5]\n",
    "\n",
    "# #check in-place functionality\n",
    "resulting_list = square_in_place(original_list)\n",
    "\n",
    "print(\"in-place - \")\n",
    "print(\"Original list: %s\" % original_list)\n",
    "print(\"Squared list: %s\" % resulting_list)\n",
    "\n",
    "#check out-of-place functionality\n",
    "resulting_list = square_out_of_place(original_list)\n",
    "\n",
    "print(\"out-of-place - \")\n",
    "print(\"Original list: %s\" % original_list)\n",
    "print(\"Squared list: %s\" % resulting_list)\n",
    "\n",
    "\n",
    "# print \"original list: %s\" % original_list\n",
    "# Prints: original list: [4, 9, 16, 25], confusingly!\n",
    "\n",
    "# And if square_list_in_place() didn't return anything,\n",
    "# which it could reasonably do, squared_list would be None!"
   ]
  },
  {
   "cell_type": "code",
   "execution_count": null,
   "metadata": {
    "collapsed": true
   },
   "outputs": [],
   "source": []
  }
 ],
 "metadata": {
  "anaconda-cloud": {},
  "kernelspec": {
   "display_name": "Python [conda env:py35]",
   "language": "python",
   "name": "conda-env-py35-py"
  },
  "language_info": {
   "codemirror_mode": {
    "name": "ipython",
    "version": 3
   },
   "file_extension": ".py",
   "mimetype": "text/x-python",
   "name": "python",
   "nbconvert_exporter": "python",
   "pygments_lexer": "ipython3",
   "version": "3.5.2"
  }
 },
 "nbformat": 4,
 "nbformat_minor": 1
}
