{
 "cells": [
  {
   "cell_type": "code",
   "execution_count": 27,
   "metadata": {
    "collapsed": true
   },
   "outputs": [],
   "source": [
    "from collections import defaultdict\n",
    "import operator\n",
    "\n",
    "# Implement your function below.\n",
    "def most_frequent(given_list):\n",
    "    count_dict = defaultdict(int)\n",
    "    \n",
    "    print(len(given_list))\n",
    "    if len(given_list) == 0:\n",
    "        max_item = 'None'\n",
    "    elif (len(given_list) == 1 and given_list[0] == 0):\n",
    "        max_item = 0\n",
    "    else:\n",
    "        for num in given_list:\n",
    "            if num in count_dict:\n",
    "                count_dict[num] += 1\n",
    "            else:\n",
    "                count_dict[num] = 0\n",
    "        max_item = max(count_dict.items(), key = operator.itemgetter(1))[0]\n",
    "    \n",
    "    return max_item"
   ]
  },
  {
   "cell_type": "code",
   "execution_count": 29,
   "metadata": {
    "collapsed": false
   },
   "outputs": [
    {
     "name": "stdout",
     "output_type": "stream",
     "text": [
      "10\n"
     ]
    },
    {
     "data": {
      "text/plain": [
       "-1"
      ]
     },
     "execution_count": 29,
     "metadata": {},
     "output_type": "execute_result"
    }
   ],
   "source": [
    "#given_list = [1, 3, 1, 3, 2, 1]\n",
    "#given_list = [3, 3, 1, 3, 2, 1]\n",
    "#given_list = []\n",
    "#given_list = [0]\n",
    "given_list = [0, -1, 10, 10, -1, 10, -1, -1, -1, 1]\n",
    "most_frequent(given_list)"
   ]
  },
  {
   "cell_type": "code",
   "execution_count": null,
   "metadata": {
    "collapsed": true
   },
   "outputs": [],
   "source": []
  }
 ],
 "metadata": {
  "kernelspec": {
   "display_name": "Python [conda env:py35]",
   "language": "python",
   "name": "conda-env-py35-py"
  },
  "language_info": {
   "codemirror_mode": {
    "name": "ipython",
    "version": 3
   },
   "file_extension": ".py",
   "mimetype": "text/x-python",
   "name": "python",
   "nbconvert_exporter": "python",
   "pygments_lexer": "ipython3",
   "version": "3.5.2"
  }
 },
 "nbformat": 4,
 "nbformat_minor": 1
}
