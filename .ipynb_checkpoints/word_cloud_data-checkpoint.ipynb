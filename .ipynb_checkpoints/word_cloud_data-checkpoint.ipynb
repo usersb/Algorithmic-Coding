{
 "cells": [
  {
   "cell_type": "code",
   "execution_count": 5,
   "metadata": {
    "collapsed": true
   },
   "outputs": [],
   "source": [
    "from collections import defaultdict"
   ]
  },
  {
   "cell_type": "code",
   "execution_count": 26,
   "metadata": {
    "collapsed": false
   },
   "outputs": [],
   "source": [
    "def split(s, delim=[\" \",\"-\",\"(\",\")\",\".\",\",\"]):\n",
    "    word = []\n",
    "    words = []\n",
    "    \n",
    "    for c in s:\n",
    "        if c not in delim:\n",
    "            word.append(c)\n",
    "        else:\n",
    "            if word:\n",
    "                words.append(''.join(word))\n",
    "                word = []\n",
    "    if word:\n",
    "        words.append(''.join(word))\n",
    "    return words\n",
    "\n",
    "\n",
    "def insert_in_dict(split_words):\n",
    "    \n",
    "    word_count_dict = defaultdict(int)\n",
    "    \n",
    "    for word in split_words:\n",
    "        word_count_dict[word] += 1 \n",
    "    \n",
    "    return word_count_dict"
   ]
  },
  {
   "cell_type": "code",
   "execution_count": 27,
   "metadata": {
    "collapsed": false
   },
   "outputs": [
    {
     "data": {
      "text/plain": [
       "defaultdict(int,\n",
       "            {'ate': 1,\n",
       "             'bill': 1,\n",
       "             \"bill's\": 1,\n",
       "             'cake': 1,\n",
       "             'came': 2,\n",
       "             'conquered': 1,\n",
       "             'dollars': 1,\n",
       "             'feuille': 1,\n",
       "             'five': 1,\n",
       "             'mille': 1,\n",
       "             'saw': 1,\n",
       "             'the': 1,\n",
       "             'then': 1,\n",
       "             'to': 1,\n",
       "             'we': 4})"
      ]
     },
     "execution_count": 27,
     "metadata": {},
     "output_type": "execute_result"
    }
   ],
   "source": [
    "#ip_string =   'After beating the eggs, Dana read the next step: Add milk and eggs, then add flour and sugar.'\n",
    "\n",
    "ip_string =   \"We came, we saw, we conquered...then we ate Bill's (Mille-Feuille) cake. The bill came to five dollars.\"\n",
    "\n",
    "ipstring_lower = ip_string.lower()\n",
    "\n",
    "split_words = split(ipstring_lower)\n",
    "word_cloud_data = insert_in_dict(split_words)\n",
    "word_cloud_data"
   ]
  },
  {
   "cell_type": "code",
   "execution_count": null,
   "metadata": {
    "collapsed": true
   },
   "outputs": [],
   "source": []
  }
 ],
 "metadata": {
  "anaconda-cloud": {},
  "kernelspec": {
   "display_name": "Python [conda env:py35]",
   "language": "python",
   "name": "conda-env-py35-py"
  },
  "language_info": {
   "codemirror_mode": {
    "name": "ipython",
    "version": 3
   },
   "file_extension": ".py",
   "mimetype": "text/x-python",
   "name": "python",
   "nbconvert_exporter": "python",
   "pygments_lexer": "ipython3",
   "version": "3.5.2"
  }
 },
 "nbformat": 4,
 "nbformat_minor": 1
}
