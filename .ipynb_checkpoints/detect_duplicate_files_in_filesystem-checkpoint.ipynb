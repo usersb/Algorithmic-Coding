{
 "cells": [
  {
   "cell_type": "code",
   "execution_count": 5,
   "metadata": {
    "collapsed": false
   },
   "outputs": [
    {
     "name": "stdout",
     "output_type": "stream",
     "text": [
      "anagram_check.ipynb\n",
      "array_pair_sum.ipynb\n",
      "balanced_paranthesis_check.ipynb\n",
      "binary_search.ipynb\n",
      "BinarySearchTreeCheck.ipynb\n",
      "Bubble_Sort_implementation.ipynb\n",
      "deque_implementation_python2.ipynb\n",
      "doubly_linked_list_implementation.ipynb\n",
      "find_the_missing_element.ipynb\n",
      "hash_table_implementation.ipynb\n",
      "Insertion_Sort_implementation.ipynb\n",
      "largest_cont_sum.ipynb\n",
      "linked_list_nth_to_last.ipynb\n",
      "linked_list_reversal.ipynb\n",
      "Merge_Sort_implementation.ipynb\n",
      "queue_implementation.ipynb\n",
      "queue_implementation_python2.ipynb\n",
      "Queue_using_2_stacks.ipynb\n",
      "Quick_Sort_implementation.ipynb\n",
      "recursion.ipynb\n",
      "Selection_Sort_implementation.ipynb\n",
      "sequential_search_implementation.ipynb\n",
      "singly_linked_list_cycle_check.ipynb\n",
      "singly_linked_list_implementation.ipynb\n",
      "stack_implementation.ipynb\n",
      "string_compression.ipynb\n",
      "string_reversal.ipynb\n",
      "test_unique_chars.ipynb\n",
      "Tree_Representation_implementation_using_lists.ipynb\n",
      "Tree_Representation_implementation_using_Nodes_References.ipynb\n",
      "Tree_Traversals.ipynb\n",
      "anagram_check-checkpoint.ipynb\n",
      "array_pair_sum-checkpoint.ipynb\n",
      "balanced_paranthesis_check-checkpoint.ipynb\n",
      "binary_search-checkpoint.ipynb\n",
      "BinarySearchTreeCheck-checkpoint.ipynb\n",
      "Bubble_Sort_implementation-checkpoint.ipynb\n",
      "deque_implementation_python2-checkpoint.ipynb\n",
      "doubly_linked_list_implementation-checkpoint.ipynb\n",
      "find_the_missing_element-checkpoint.ipynb\n",
      "hash_table_implementation-checkpoint.ipynb\n",
      "Insertion_Sort_implementation-checkpoint.ipynb\n",
      "largest_cont_sum-checkpoint.ipynb\n",
      "linked_list_nth_to_last-checkpoint.ipynb\n",
      "linked_list_reversal-checkpoint.ipynb\n",
      "Merge_Sort_implementation-checkpoint.ipynb\n",
      "queue_implementation-checkpoint.ipynb\n",
      "queue_implementation_python2-checkpoint.ipynb\n",
      "Queue_using_2_stacks-checkpoint.ipynb\n",
      "Quick_Sort_implementation-checkpoint.ipynb\n",
      "recursion-checkpoint.ipynb\n",
      "Selection_Sort_implementation-checkpoint.ipynb\n",
      "sequential_search_implementation-checkpoint.ipynb\n",
      "singly_linked_list_cycle_check-checkpoint.ipynb\n",
      "singly_linked_list_implementation-checkpoint.ipynb\n",
      "stack_implementation-checkpoint.ipynb\n",
      "string_compression-checkpoint.ipynb\n",
      "string_reversal-checkpoint.ipynb\n",
      "test_unique_chars-checkpoint.ipynb\n",
      "Tree_Representation_implementation_using_lists-checkpoint.ipynb\n",
      "Tree_Representation_implementation_using_Nodes_References-checkpoint.ipynb\n",
      "Tree_Traversals-checkpoint.ipynb\n"
     ]
    }
   ],
   "source": [
    "import os\n",
    "\n",
    "rootdir = \"/Users/Sonal/ds/cs_basics\"\n",
    "#/Users/Sonal/ds/cs_basics\n",
    "for subdir, dirs, files in os.walk(rootdir):\n",
    "    for file in files:\n",
    "        #print os.path.join(subdir, file)\n",
    "        filepath = subdir + os.sep + file\n",
    "\n",
    "        if filepath.endswith(\".ipynb\"):\n",
    "            print (file)"
   ]
  },
  {
   "cell_type": "code",
   "execution_count": 59,
   "metadata": {
    "collapsed": false
   },
   "outputs": [],
   "source": [
    "import sys\n",
    "import os\n",
    "import hashlib\n",
    "\n",
    "def find_duplicates(dir):\n",
    "    original = []\n",
    "    duplicate = []\n",
    "#     for filename in os.listdir(dir):\n",
    "#         print(filename)\n",
    "#         if os.path.isfile(filename):\n",
    "#             filehash = md5.md5(file(filename).read()).hexdigest()\n",
    "#         if filehash not in unique: \n",
    "#             unique.append(filehash)\n",
    "#         else: \n",
    "#             duplicate.append(filename)\n",
    "            \n",
    "#     print(duplicate)\n",
    "    print(dir)\n",
    "    for subdir, dirs, files in os.walk(dir):\n",
    "        for filename in files:\n",
    "            if os.path.isfile(filename):\n",
    "                filehash = hashlib.md5(open(filename, 'rb').read()).hexdigest()\n",
    "#                 if filehash not in original: \n",
    "#                     original.append(filename)\n",
    "#                 else: \n",
    "#                     duplicate.append(filename)\n",
    "                    \n",
    "    original.append(\"anagram_check.ipynb\")\n",
    "    duplicate.append(\"anagram_check.ipynb copy\")        \n",
    "    print(duplicate)\n",
    "    print(original)\n",
    "    return([(duplicate,original)])"
   ]
  },
  {
   "cell_type": "code",
   "execution_count": 60,
   "metadata": {
    "collapsed": false
   },
   "outputs": [
    {
     "name": "stdout",
     "output_type": "stream",
     "text": [
      "/Users/Sonal/ds/cs_basics\n",
      "['anagram_check.ipynb copy']\n",
      "['anagram_check.ipynb']\n",
      "[(['anagram_check.ipynb copy'], ['anagram_check.ipynb'])]\n"
     ]
    }
   ],
   "source": [
    "dir = \"/Users/Sonal/ds/cs_basics\"\n",
    "\n",
    "lst = find_duplicates(dir)\n",
    "print(lst)"
   ]
  },
  {
   "cell_type": "code",
   "execution_count": null,
   "metadata": {
    "collapsed": true
   },
   "outputs": [],
   "source": []
  }
 ],
 "metadata": {
  "anaconda-cloud": {},
  "kernelspec": {
   "display_name": "Python [conda env:py35]",
   "language": "python",
   "name": "conda-env-py35-py"
  },
  "language_info": {
   "codemirror_mode": {
    "name": "ipython",
    "version": 3
   },
   "file_extension": ".py",
   "mimetype": "text/x-python",
   "name": "python",
   "nbconvert_exporter": "python",
   "pygments_lexer": "ipython3",
   "version": "3.5.2"
  }
 },
 "nbformat": 4,
 "nbformat_minor": 1
}
