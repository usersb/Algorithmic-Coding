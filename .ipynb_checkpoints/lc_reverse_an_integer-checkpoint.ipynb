{
 "cells": [
  {
   "cell_type": "markdown",
   "metadata": {},
   "source": [
    "Note:\n",
    "Assume we are dealing with an environment which could only store integers within the 32-bit signed integer range: [−231,  231 − 1]. For the purpose of this problem, assume that your function returns 0 when the reversed integer overflows."
   ]
  },
  {
   "cell_type": "code",
   "execution_count": 58,
   "metadata": {
    "collapsed": false
   },
   "outputs": [],
   "source": [
    "def reverse_integer(ip_int):\n",
    "    \n",
    "    #single digit case\n",
    "    if abs(ip_int) < 10:\n",
    "        return(ip_int)\n",
    "    \n",
    "    r = int(str(abs(ip_int))[::-1])\n",
    "    \n",
    "    #checking edge case\n",
    "    if (r <= pow(-2,31)) or (r >= pow(2,31)-1) :\n",
    "        return(0)\n",
    "  \n",
    "    if ip_int > 0:\n",
    "        return(r)\n",
    "    else: \n",
    "        return(-r)"
   ]
  },
  {
   "cell_type": "code",
   "execution_count": 59,
   "metadata": {
    "collapsed": false
   },
   "outputs": [
    {
     "name": "stdout",
     "output_type": "stream",
     "text": [
      "0\n"
     ]
    }
   ],
   "source": [
    "#ip_num = 123\n",
    "#ip_num=-123\n",
    "#ip_num = 120\n",
    "ip_num = 0\n",
    "result = reverse_integer(ip_num)\n",
    "\n",
    "print(result)"
   ]
  },
  {
   "cell_type": "code",
   "execution_count": null,
   "metadata": {
    "collapsed": true
   },
   "outputs": [],
   "source": [
    "TC :O(log(x)to the base 10)\n",
    "SC :O(1)"
   ]
  }
 ],
 "metadata": {
  "kernelspec": {
   "display_name": "Python [conda env:py35]",
   "language": "python",
   "name": "conda-env-py35-py"
  },
  "language_info": {
   "codemirror_mode": {
    "name": "ipython",
    "version": 3
   },
   "file_extension": ".py",
   "mimetype": "text/x-python",
   "name": "python",
   "nbconvert_exporter": "python",
   "pygments_lexer": "ipython3",
   "version": "3.5.2"
  }
 },
 "nbformat": 4,
 "nbformat_minor": 1
}
