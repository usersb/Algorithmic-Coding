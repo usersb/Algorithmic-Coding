{
 "cells": [
  {
   "cell_type": "code",
   "execution_count": 10,
   "metadata": {
    "collapsed": true
   },
   "outputs": [],
   "source": [
    "def is_palindrome(ip_str):\n",
    "    count_odd_chars = 0\n",
    "    str_len = len(ip_str)\n",
    "    \n",
    "    char_count_dict = {}\n",
    "    \n",
    "    for char in ip_str:\n",
    "        if char in char_count_dict:\n",
    "            char_count_dict[char] += 1\n",
    "        else:\n",
    "            char_count_dict[char] = 1\n",
    "    \n",
    "    print(char_count_dict)\n",
    "    if (str_len%2) == 0:\n",
    "        #every char in the string should appear even number of times\n",
    "        for key,val in char_count_dict.items():\n",
    "            if (val%2) != 0:\n",
    "                return False\n",
    "    else:\n",
    "        #every char in the string except one should appear even number of times. The char exception\n",
    "        #should appear no more than once\n",
    "        for key,val in char_count_dict.items():\n",
    "            if (val%2) != 0:\n",
    "                count_odd_chars = count_odd_chars + 1\n",
    "        if count_odd_chars > 1:\n",
    "            return False\n",
    "        \n",
    "    return True"
   ]
  },
  {
   "cell_type": "code",
   "execution_count": null,
   "metadata": {
    "collapsed": true
   },
   "outputs": [],
   "source": [
    "Complexity Analysis\n",
    "\n",
    "Time complexity : O(n). We traverse over the given string s with n characters once. We also traverse over the \n",
    "map which can grow upto a size of n in case all characters in s are distinct.\n",
    "\n",
    "Space complexity : O(n). The hashmap can grow upto a size of n, in case all the characters in s are distinct."
   ]
  },
  {
   "cell_type": "code",
   "execution_count": 8,
   "metadata": {
    "collapsed": false
   },
   "outputs": [
    {
     "name": "stdout",
     "output_type": "stream",
     "text": [
      "{'m': 2, 'a': 2, 'd': 1}\n",
      "True\n"
     ]
    }
   ],
   "source": [
    "result = is_palindrome('madam')\n",
    "print(result)"
   ]
  },
  {
   "cell_type": "code",
   "execution_count": 11,
   "metadata": {
    "collapsed": false
   },
   "outputs": [
    {
     "name": "stdout",
     "output_type": "stream",
     "text": [
      "{'b': 2, 'a': 2}\n",
      "True\n"
     ]
    }
   ],
   "source": [
    "result = is_palindrome('abba')\n",
    "print(result)"
   ]
  },
  {
   "cell_type": "code",
   "execution_count": 12,
   "metadata": {
    "collapsed": false
   },
   "outputs": [
    {
     "name": "stdout",
     "output_type": "stream",
     "text": [
      "{'c': 2, 'e': 1, 'a': 2, 'r': 2}\n",
      "True\n"
     ]
    }
   ],
   "source": [
    "result = is_palindrome('racecar')\n",
    "print(result)"
   ]
  },
  {
   "cell_type": "code",
   "execution_count": 13,
   "metadata": {
    "collapsed": false
   },
   "outputs": [
    {
     "name": "stdout",
     "output_type": "stream",
     "text": [
      "{'o': 1, 'd': 1, 'e': 1, 'n': 1}\n",
      "False\n"
     ]
    }
   ],
   "source": [
    "result = is_palindrome('node')\n",
    "print(result)"
   ]
  },
  {
   "cell_type": "code",
   "execution_count": 14,
   "metadata": {
    "collapsed": false
   },
   "outputs": [
    {
     "name": "stdout",
     "output_type": "stream",
     "text": [
      "{'b': 1, 'a': 2}\n",
      "True\n"
     ]
    }
   ],
   "source": [
    "result = is_palindrome('aab')\n",
    "print(result)"
   ]
  },
  {
   "cell_type": "code",
   "execution_count": null,
   "metadata": {
    "collapsed": true
   },
   "outputs": [],
   "source": []
  }
 ],
 "metadata": {
  "kernelspec": {
   "display_name": "Python [conda env:py35]",
   "language": "python",
   "name": "conda-env-py35-py"
  },
  "language_info": {
   "codemirror_mode": {
    "name": "ipython",
    "version": 3
   },
   "file_extension": ".py",
   "mimetype": "text/x-python",
   "name": "python",
   "nbconvert_exporter": "python",
   "pygments_lexer": "ipython3",
   "version": "3.5.2"
  }
 },
 "nbformat": 4,
 "nbformat_minor": 1
}
