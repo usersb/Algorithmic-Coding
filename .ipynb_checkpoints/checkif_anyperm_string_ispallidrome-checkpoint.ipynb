{
 "cells": [
  {
   "cell_type": "code",
   "execution_count": 31,
   "metadata": {
    "collapsed": false
   },
   "outputs": [],
   "source": [
    "#using a dictionary\n",
    "def chkif_perm_pallindrome(ip_string):\n",
    "    \n",
    "    cnt_dict = dict()\n",
    "    str_len = len(ip_string)-1\n",
    "\n",
    "    sum_values = 0   \n",
    "    for key in ip_string:\n",
    "        if key in cnt_dict:\n",
    "            cnt_dict[key] = cnt_dict[key] - 1\n",
    "        else:\n",
    "            cnt_dict[key] =1\n",
    "    \n",
    "    print(sum(cnt_dict.values()))\n",
    "    if sum(cnt_dict.values()) > 1:\n",
    "        return False\n",
    "    elif sum(cnt_dict.values()) == 1 or sum(cnt_dict.values()) == 0 :\n",
    "        return True\n",
    "    "
   ]
  },
  {
   "cell_type": "code",
   "execution_count": 32,
   "metadata": {
    "collapsed": false
   },
   "outputs": [
    {
     "name": "stdout",
     "output_type": "stream",
     "text": [
      "0\n"
     ]
    },
    {
     "data": {
      "text/plain": [
       "True"
      ]
     },
     "execution_count": 32,
     "metadata": {},
     "output_type": "execute_result"
    }
   ],
   "source": [
    "#ip_string = 'civic'\n",
    "#ip_string = 'civil'\n",
    "#ip_string = 'ivicc'\n",
    "#ip_string = 'mom'\n",
    "#ip_string = 'tom'\n",
    "#ip_string = 'racecar'\n",
    "#ip_string = 'kayak'\n",
    "ip_string = 'anna'\n",
    "\n",
    "perm_is_pallindrome = chkif_perm_pallindrome(ip_string)\n",
    "perm_is_pallindrome"
   ]
  },
  {
   "cell_type": "code",
   "execution_count": 35,
   "metadata": {
    "collapsed": true
   },
   "outputs": [],
   "source": [
    "#using a set\n",
    "\n",
    "def chkif_perm_pallindrome_usingset(ip_string):\n",
    "    #track if number of unpaired characters is odd\n",
    "    \n",
    "    unpaired_chars =set()\n",
    "    \n",
    "    for char in ip_string:\n",
    "        if char in unpaired_chars:\n",
    "            unpaired_chars.remove(char)\n",
    "        else:\n",
    "            unpaired_chars.add(char)\n",
    "    \n",
    "    # The string has a palindrome permutation if it\n",
    "    # has one or zero characters without a pair\n",
    "    return len(unpaired_chars) <= 1"
   ]
  },
  {
   "cell_type": "code",
   "execution_count": 38,
   "metadata": {
    "collapsed": false
   },
   "outputs": [
    {
     "data": {
      "text/plain": [
       "False"
      ]
     },
     "execution_count": 38,
     "metadata": {},
     "output_type": "execute_result"
    }
   ],
   "source": [
    "# ip_string = 'anna'\n",
    "ip_string = 'civil'\n",
    "\n",
    "perm_is_pallindrome = chkif_perm_pallindrome_usingset(ip_string)\n",
    "perm_is_pallindrome"
   ]
  },
  {
   "cell_type": "code",
   "execution_count": null,
   "metadata": {
    "collapsed": true
   },
   "outputs": [],
   "source": []
  }
 ],
 "metadata": {
  "anaconda-cloud": {},
  "kernelspec": {
   "display_name": "Python [conda env:py35]",
   "language": "python",
   "name": "conda-env-py35-py"
  },
  "language_info": {
   "codemirror_mode": {
    "name": "ipython",
    "version": 3
   },
   "file_extension": ".py",
   "mimetype": "text/x-python",
   "name": "python",
   "nbconvert_exporter": "python",
   "pygments_lexer": "ipython3",
   "version": "3.5.2"
  }
 },
 "nbformat": 4,
 "nbformat_minor": 1
}
