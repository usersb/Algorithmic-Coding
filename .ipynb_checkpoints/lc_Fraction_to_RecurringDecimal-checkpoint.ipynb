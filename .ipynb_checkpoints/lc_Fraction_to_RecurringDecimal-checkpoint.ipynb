{
 "cells": [
  {
   "cell_type": "markdown",
   "metadata": {},
   "source": [
    "Fraction to Recurring decimal"
   ]
  },
  {
   "cell_type": "code",
   "execution_count": 2,
   "metadata": {
    "collapsed": false
   },
   "outputs": [
    {
     "name": "stdout",
     "output_type": "stream",
     "text": [
      "0.5\n",
      "0.5\n"
     ]
    }
   ],
   "source": [
    "num = 1\n",
    "denom = 2\n",
    "\n",
    "print(1/2)\n",
    "print(str(1/2))"
   ]
  },
  {
   "cell_type": "code",
   "execution_count": 7,
   "metadata": {
    "collapsed": false
   },
   "outputs": [
    {
     "data": {
      "text/plain": [
       "0.6666666666666666"
      ]
     },
     "execution_count": 7,
     "metadata": {},
     "output_type": "execute_result"
    }
   ],
   "source": [
    "2/3"
   ]
  },
  {
   "cell_type": "code",
   "execution_count": 8,
   "metadata": {
    "collapsed": false
   },
   "outputs": [
    {
     "data": {
      "text/plain": [
       "2"
      ]
     },
     "execution_count": 8,
     "metadata": {},
     "output_type": "execute_result"
    }
   ],
   "source": [
    "2%3"
   ]
  },
  {
   "cell_type": "code",
   "execution_count": 6,
   "metadata": {
    "collapsed": false
   },
   "outputs": [
    {
     "data": {
      "text/plain": [
       "0.012012012012012012"
      ]
     },
     "execution_count": 6,
     "metadata": {},
     "output_type": "execute_result"
    }
   ],
   "source": [
    "4/333"
   ]
  },
  {
   "cell_type": "code",
   "execution_count": null,
   "metadata": {
    "collapsed": true
   },
   "outputs": [],
   "source": [
    "\"0.(012)\""
   ]
  },
  {
   "cell_type": "code",
   "execution_count": 25,
   "metadata": {
    "collapsed": true
   },
   "outputs": [],
   "source": [
    "def fractionToDecimal(numerator, denominator):\n",
    "    \"\"\"\n",
    "    :type numerator: int\n",
    "    :type denominator: int\n",
    "    :rtype: str\n",
    "    \"\"\"\n",
    "    if numerator == 0:\n",
    "        return \"0\"\n",
    "\n",
    "    flag = \"\"\n",
    "    if numerator < 0:\n",
    "        if denominator < 0:\n",
    "            numerator *= -1\n",
    "            denominator *= -1\n",
    "        else:\n",
    "            numerator *= -1\n",
    "            flag = \"-\"\n",
    "    else:\n",
    "        if denominator < 0:\n",
    "            denominator *= -1\n",
    "            flag = \"-\"\n",
    "\n",
    "    res = flag + str(numerator // denominator)\n",
    "    \n",
    "    remainder = numerator % denominator\n",
    "\n",
    "    if remainder == 0:\n",
    "        return str(res)\n",
    "    else:\n",
    "        res += \".\"\n",
    "        print(\"res= %s\" %res)\n",
    "        res_decimal = \"\"\n",
    "        print(\"res_decimal = %s\" %res_decimal)\n",
    "           # now remainder is positive\n",
    "        explored = dict()\n",
    "        start = 0\n",
    "        while remainder != 0 and remainder not in explored:\n",
    "            explored[remainder] = start\n",
    "            remainder *= 10\n",
    "            res_decimal += str(remainder // denominator)\n",
    "            print(\"res_decimal = %s\" %res_decimal)\n",
    "            remainder %= denominator\n",
    "            print(\"remainder = %d\" %remainder)\n",
    "            start += 1\n",
    "            print(explored)\n",
    "            \n",
    "        if remainder == 0:\n",
    "            return res + res_decimal\n",
    "        else:\n",
    "            start_recur = explored[remainder]\n",
    "            print(\"start_recur = %d\" %start_recur)\n",
    "            return res + res_decimal[: start_recur] + \"({})\".format(res_decimal[start_recur:])"
   ]
  },
  {
   "cell_type": "code",
   "execution_count": 26,
   "metadata": {
    "collapsed": false
   },
   "outputs": [
    {
     "name": "stdout",
     "output_type": "stream",
     "text": [
      "res= 0.\n",
      "res_decimal = \n",
      "res_decimal = 6\n",
      "remainder = 2\n",
      "{2: 0}\n",
      "start_recur = 0\n"
     ]
    },
    {
     "data": {
      "text/plain": [
       "'0.(6)'"
      ]
     },
     "execution_count": 26,
     "metadata": {},
     "output_type": "execute_result"
    }
   ],
   "source": [
    "fractionToDecimal(2,3)"
   ]
  },
  {
   "cell_type": "code",
   "execution_count": 11,
   "metadata": {
    "collapsed": false
   },
   "outputs": [
    {
     "data": {
      "text/plain": [
       "'0.5'"
      ]
     },
     "execution_count": 11,
     "metadata": {},
     "output_type": "execute_result"
    }
   ],
   "source": [
    "fractionToDecimal(1,2)"
   ]
  },
  {
   "cell_type": "code",
   "execution_count": 12,
   "metadata": {
    "collapsed": false
   },
   "outputs": [
    {
     "data": {
      "text/plain": [
       "'2'"
      ]
     },
     "execution_count": 12,
     "metadata": {},
     "output_type": "execute_result"
    }
   ],
   "source": [
    "fractionToDecimal(2,1)"
   ]
  },
  {
   "cell_type": "code",
   "execution_count": null,
   "metadata": {
    "collapsed": true
   },
   "outputs": [],
   "source": []
  }
 ],
 "metadata": {
  "anaconda-cloud": {},
  "kernelspec": {
   "display_name": "Python [conda env:py35]",
   "language": "python",
   "name": "conda-env-py35-py"
  },
  "language_info": {
   "codemirror_mode": {
    "name": "ipython",
    "version": 3
   },
   "file_extension": ".py",
   "mimetype": "text/x-python",
   "name": "python",
   "nbconvert_exporter": "python",
   "pygments_lexer": "ipython3",
   "version": "3.5.2"
  }
 },
 "nbformat": 4,
 "nbformat_minor": 1
}
