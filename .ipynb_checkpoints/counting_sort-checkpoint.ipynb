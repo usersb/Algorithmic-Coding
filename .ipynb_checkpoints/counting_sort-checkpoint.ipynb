{
 "cells": [
  {
   "cell_type": "code",
   "execution_count": 1,
   "metadata": {
    "collapsed": true
   },
   "outputs": [],
   "source": [
    "#sorting a list in place without comparison in O(n) time and space"
   ]
  },
  {
   "cell_type": "code",
   "execution_count": 17,
   "metadata": {
    "collapsed": true
   },
   "outputs": [],
   "source": [
    "def counting_sort(unsorted_scores, highest_possible_score):\n",
    "    \n",
    "    sorted_list = []\n",
    "    num_counts =[0] * (highest_possible_score+1)\n",
    "    \n",
    "    for value in unsorted_scores:\n",
    "        num_counts[value] += 1\n",
    "    \n",
    "    for index, times in enumerate(num_counts):\n",
    "        for time in range(0,times):\n",
    "            sorted_list.append(index)\n",
    "            \n",
    "    return(sorted_list)"
   ]
  },
  {
   "cell_type": "code",
   "execution_count": 18,
   "metadata": {
    "collapsed": false
   },
   "outputs": [
    {
     "name": "stdout",
     "output_type": "stream",
     "text": [
      "[37, 41, 53, 65, 89, 91]\n"
     ]
    }
   ],
   "source": [
    "unsorted_scores = [37, 89, 41, 65, 91, 53]\n",
    "highest_possible_score = 100\n",
    "\n",
    "sorted_list = counting_sort(unsorted_scores,highest_possible_score)\n",
    "print(sorted_list)"
   ]
  },
  {
   "cell_type": "code",
   "execution_count": null,
   "metadata": {
    "collapsed": true
   },
   "outputs": [],
   "source": []
  }
 ],
 "metadata": {
  "anaconda-cloud": {},
  "kernelspec": {
   "display_name": "Python [conda env:py35]",
   "language": "python",
   "name": "conda-env-py35-py"
  },
  "language_info": {
   "codemirror_mode": {
    "name": "ipython",
    "version": 3
   },
   "file_extension": ".py",
   "mimetype": "text/x-python",
   "name": "python",
   "nbconvert_exporter": "python",
   "pygments_lexer": "ipython3",
   "version": "3.5.2"
  }
 },
 "nbformat": 4,
 "nbformat_minor": 1
}
