{
 "cells": [
  {
   "cell_type": "code",
   "execution_count": 51,
   "metadata": {
    "collapsed": false
   },
   "outputs": [],
   "source": [
    "class Solution(object):\n",
    "    \n",
    "    def two_sum1(nums, target):\n",
    "       \n",
    "        if len(nums) <= 1:\n",
    "            return False\n",
    "    \n",
    "    \n",
    "        nums_dict = {}\n",
    "        for i in range(len(nums)):\n",
    "            if nums[i] in nums_dict:\n",
    "                return(nums_dict[nums[i]],i)\n",
    "            else:\n",
    "                nums_dict[target-nums[i]] = i"
   ]
  },
  {
   "cell_type": "code",
   "execution_count": 52,
   "metadata": {
    "collapsed": false
   },
   "outputs": [
    {
     "name": "stdout",
     "output_type": "stream",
     "text": [
      "(0, 1)\n"
     ]
    }
   ],
   "source": [
    "nums = [3,3]\n",
    "#nums = [2,7,11,15]\n",
    "target = 6\n",
    "res = Solution.two_sum1(nums,target)\n",
    "print(res)"
   ]
  },
  {
   "cell_type": "markdown",
   "metadata": {},
   "source": [
    "Complexity Analysis:\n",
    "\n",
    "Time complexity : O(n). We traverse the list containing n elements only once. Each look up in the table costs only \n",
    "O(1) time.\n",
    "\n",
    "Space complexity : O(n). The extra space required depends on the number of items stored in the hash table, which stores at most n elements."
   ]
  },
  {
   "cell_type": "code",
   "execution_count": null,
   "metadata": {
    "collapsed": true
   },
   "outputs": [],
   "source": []
  }
 ],
 "metadata": {
  "anaconda-cloud": {},
  "kernelspec": {
   "display_name": "Python [conda env:py35]",
   "language": "python",
   "name": "conda-env-py35-py"
  },
  "language_info": {
   "codemirror_mode": {
    "name": "ipython",
    "version": 3
   },
   "file_extension": ".py",
   "mimetype": "text/x-python",
   "name": "python",
   "nbconvert_exporter": "python",
   "pygments_lexer": "ipython3",
   "version": "3.5.2"
  }
 },
 "nbformat": 4,
 "nbformat_minor": 1
}
