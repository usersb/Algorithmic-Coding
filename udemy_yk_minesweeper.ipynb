{
 "cells": [
  {
   "cell_type": "code",
   "execution_count": 43,
   "metadata": {
    "collapsed": false
   },
   "outputs": [],
   "source": [
    "def to_string(given_array):\n",
    "    list_rows = []\n",
    "    for row in given_array:\n",
    "        list_rows.append(str(row))\n",
    "        \n",
    "    return('[' + ',\\n '.join(list_rows) + ']')"
   ]
  },
  {
   "cell_type": "code",
   "execution_count": 37,
   "metadata": {
    "collapsed": true
   },
   "outputs": [],
   "source": [
    "def mine_sweeper(bombs,num_rows,num_cols):\n",
    "   \n",
    "    field = [[0 for j in range(num_cols)] for i in range(num_rows)]\n",
    "    \n",
    "    for bomb in bombs:\n",
    "        [row_i,col_i] = bomb\n",
    "        field[row_i][col_i] = -1\n",
    "    \n",
    "        for i in range(row_i - 1,row_i + 2):\n",
    "            for j in range(col_i - 1,col_i + 2):\n",
    "                if (0 <= i < num_rows and 0 <= j < num_cols and field[i][j] != -1):\n",
    "                    field[i][j] += 1\n",
    "    \n",
    "    return(field)"
   ]
  },
  {
   "cell_type": "code",
   "execution_count": 44,
   "metadata": {
    "collapsed": false
   },
   "outputs": [
    {
     "name": "stdout",
     "output_type": "stream",
     "text": [
      "[[-1, -1, 1, 0],\n",
      " [2, 2, 1, 0],\n",
      " [0, 0, 0, 0]]\n"
     ]
    }
   ],
   "source": [
    "bombs = [[0,0],[0,1]]\n",
    "result = mine_sweeper(bombs,3,4)\n",
    "print(to_string(result))"
   ]
  },
  {
   "cell_type": "code",
   "execution_count": null,
   "metadata": {
    "collapsed": true
   },
   "outputs": [],
   "source": []
  }
 ],
 "metadata": {
  "kernelspec": {
   "display_name": "Python [conda env:py35]",
   "language": "python",
   "name": "conda-env-py35-py"
  },
  "language_info": {
   "codemirror_mode": {
    "name": "ipython",
    "version": 3
   },
   "file_extension": ".py",
   "mimetype": "text/x-python",
   "name": "python",
   "nbconvert_exporter": "python",
   "pygments_lexer": "ipython3",
   "version": "3.5.2"
  }
 },
 "nbformat": 4,
 "nbformat_minor": 1
}
