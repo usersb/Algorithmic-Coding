{
 "cells": [
  {
   "cell_type": "code",
   "execution_count": 15,
   "metadata": {
    "collapsed": true
   },
   "outputs": [],
   "source": [
    "#Class for creating a linked list\n",
    "\n",
    "class Node:\n",
    "    \n",
    "    def __init__(self,value,child=None):\n",
    "        self.value = value\n",
    "        self.child = child\n",
    "    \n",
    "    #The string representation of this node will be used for testing\n",
    "    def __str__(self):\n",
    "        return(str(self.value))\n",
    "    \n"
   ]
  },
  {
   "cell_type": "code",
   "execution_count": 16,
   "metadata": {
    "collapsed": true
   },
   "outputs": [],
   "source": [
    "#This function converts the string into an easy to read string format\n",
    "#e.g. head->7->6->5->4->3->2->1->None\n",
    "\n",
    "def linked_list_to_string(head):\n",
    "    current = head\n",
    "    str_list = []\n",
    "    \n",
    "    while current:\n",
    "        str_list.append(str(current.value))\n",
    "        current = current.child\n",
    "    str_list.append('(None)')\n",
    "    \n",
    "    return('->'.join(str_list))"
   ]
  },
  {
   "cell_type": "code",
   "execution_count": 18,
   "metadata": {
    "collapsed": true
   },
   "outputs": [],
   "source": [
    "def nth_from_last(head,n):\n",
    "    #Initialize two pointers (left, right) at the head of the linked list or the first node of linked list\n",
    "    \n",
    "    left = head\n",
    "    right = head\n",
    "    \n",
    "    #Move the right pointer to the right by n nodes\n",
    "    for i in range(n):\n",
    "        if right == None:\n",
    "            return None\n",
    "        right = right.child\n",
    "        \n",
    "    #Move both the left and right pointers to the right till the right pointer reaches None\n",
    "    while right:\n",
    "        right = right.child\n",
    "        left = left.child\n",
    "        \n",
    "    return(left)"
   ]
  },
  {
   "cell_type": "code",
   "execution_count": 19,
   "metadata": {
    "collapsed": true
   },
   "outputs": [],
   "source": [
    "# NOTE: The following input values will be used for testing your solution.\n",
    "current = Node(1)\n",
    "for i in range(2, 8):\n",
    "    current = Node(i, current)\n",
    "head = current\n",
    "# head = 7 -> 6 -> 5 -> 4 -> 3 -> 2 -> 1 -> (None)"
   ]
  },
  {
   "cell_type": "code",
   "execution_count": 20,
   "metadata": {
    "collapsed": true
   },
   "outputs": [],
   "source": [
    "current2 = Node(4)\n",
    "for i in range(3, 0, -1):\n",
    "    current2 = Node(i, current2)\n",
    "head2 = current2\n",
    "# head2 = 1 -> 2 -> 3 -> 4 -> (None)"
   ]
  },
  {
   "cell_type": "code",
   "execution_count": 21,
   "metadata": {
    "collapsed": false
   },
   "outputs": [
    {
     "name": "stdout",
     "output_type": "stream",
     "text": [
      "1\n"
     ]
    }
   ],
   "source": [
    "result = nth_from_last(head,1)\n",
    "print(result)"
   ]
  },
  {
   "cell_type": "code",
   "execution_count": 22,
   "metadata": {
    "collapsed": false
   },
   "outputs": [
    {
     "name": "stdout",
     "output_type": "stream",
     "text": [
      "5\n"
     ]
    }
   ],
   "source": [
    "result = nth_from_last(head,5)\n",
    "print(result)"
   ]
  },
  {
   "cell_type": "code",
   "execution_count": 23,
   "metadata": {
    "collapsed": false
   },
   "outputs": [
    {
     "name": "stdout",
     "output_type": "stream",
     "text": [
      "3\n"
     ]
    }
   ],
   "source": [
    "result = nth_from_last(head2,2)\n",
    "print(result)"
   ]
  },
  {
   "cell_type": "code",
   "execution_count": 24,
   "metadata": {
    "collapsed": false
   },
   "outputs": [
    {
     "name": "stdout",
     "output_type": "stream",
     "text": [
      "1\n"
     ]
    }
   ],
   "source": [
    "result = nth_from_last(head2,4)\n",
    "print(result)"
   ]
  },
  {
   "cell_type": "code",
   "execution_count": 25,
   "metadata": {
    "collapsed": false
   },
   "outputs": [
    {
     "name": "stdout",
     "output_type": "stream",
     "text": [
      "None\n"
     ]
    }
   ],
   "source": [
    "result = nth_from_last(head2,5)\n",
    "print(result)"
   ]
  },
  {
   "cell_type": "code",
   "execution_count": 26,
   "metadata": {
    "collapsed": false
   },
   "outputs": [
    {
     "name": "stdout",
     "output_type": "stream",
     "text": [
      "None\n"
     ]
    }
   ],
   "source": [
    "result = nth_from_last(None,1)\n",
    "print(result)"
   ]
  },
  {
   "cell_type": "code",
   "execution_count": null,
   "metadata": {
    "collapsed": true
   },
   "outputs": [],
   "source": []
  }
 ],
 "metadata": {
  "kernelspec": {
   "display_name": "Python [conda env:py35]",
   "language": "python",
   "name": "conda-env-py35-py"
  },
  "language_info": {
   "codemirror_mode": {
    "name": "ipython",
    "version": 3
   },
   "file_extension": ".py",
   "mimetype": "text/x-python",
   "name": "python",
   "nbconvert_exporter": "python",
   "pygments_lexer": "ipython3",
   "version": "3.5.2"
  }
 },
 "nbformat": 4,
 "nbformat_minor": 1
}
