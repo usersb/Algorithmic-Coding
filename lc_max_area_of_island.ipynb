{
 "cells": [
  {
   "cell_type": "code",
   "execution_count": 21,
   "metadata": {
    "collapsed": true
   },
   "outputs": [],
   "source": [
    "def maxAreaOfIsland(grid):\n",
    "    m, n = len(grid), len(grid[0])\n",
    "    print(m,n)\n",
    "    \n",
    "    def dfs(i, j):\n",
    "        if 0 <= i < m and 0 <= j < n and grid[i][j]:\n",
    "            grid[i][j] = 0\n",
    "            return 1 + dfs(i - 1, j) + dfs(i, j + 1) + dfs(i + 1, j) + dfs(i, j - 1)\n",
    "        return 0\n",
    "\n",
    "    areas = [dfs(i, j) for i in range(m) for j in range(n) if grid[i][j]]\n",
    "    return max(areas) if areas else 0"
   ]
  },
  {
   "cell_type": "code",
   "execution_count": 18,
   "metadata": {
    "collapsed": false
   },
   "outputs": [
    {
     "name": "stdout",
     "output_type": "stream",
     "text": [
      "1 8\n",
      "0\n"
     ]
    }
   ],
   "source": [
    "area = maxAreaOfIsland([[0,0,0,0,0,0,0,0]])\n",
    "print(area)"
   ]
  },
  {
   "cell_type": "code",
   "execution_count": 22,
   "metadata": {
    "collapsed": false
   },
   "outputs": [
    {
     "name": "stdout",
     "output_type": "stream",
     "text": [
      "8 13\n",
      "6\n"
     ]
    }
   ],
   "source": [
    "grid = [[0,0,1,0,0,0,0,1,0,0,0,0,0],\n",
    " [0,0,0,0,0,0,0,1,1,1,0,0,0],\n",
    " [0,1,1,0,1,0,0,0,0,0,0,0,0],\n",
    " [0,1,0,0,1,1,0,0,1,0,1,0,0],\n",
    " [0,1,0,0,1,1,0,0,1,1,1,0,0],\n",
    " [0,0,0,0,0,0,0,0,0,0,1,0,0],\n",
    " [0,0,0,0,0,0,0,1,1,1,0,0,0],\n",
    " [0,0,0,0,0,0,0,1,1,0,0,0,0]]\n",
    "\n",
    "area = maxAreaOfIsland(grid)\n",
    "print(area)"
   ]
  },
  {
   "cell_type": "code",
   "execution_count": 28,
   "metadata": {
    "collapsed": false
   },
   "outputs": [],
   "source": [
    "class Solution(object):\n",
    "    \n",
    "    def max_area_of_island(self,grid):\n",
    "        m,n = len(grid),len(grid[0])\n",
    "        \n",
    "        def dfs(i,j):\n",
    "            if ((0 <= i < m) and (0 <= j < n) and (grid[i][j])):\n",
    "                grid[i][j] = 0\n",
    "                return (1 + dfs(i-1,j) + dfs (i,j+1) + dfs(i+1,j) + dfs(i,j-1))\n",
    "            return 0\n",
    "            \n",
    "            \n",
    "        areas = [dfs(i,j) for i in range(m) for j in range(n) if grid[i][j]]\n",
    "        return max(areas) if areas else 0"
   ]
  },
  {
   "cell_type": "code",
   "execution_count": 29,
   "metadata": {
    "collapsed": false
   },
   "outputs": [
    {
     "name": "stdout",
     "output_type": "stream",
     "text": [
      "6\n"
     ]
    }
   ],
   "source": [
    "grid = [[0,0,1,0,0,0,0,1,0,0,0,0,0],\n",
    " [0,0,0,0,0,0,0,1,1,1,0,0,0],\n",
    " [0,1,1,0,1,0,0,0,0,0,0,0,0],\n",
    " [0,1,0,0,1,1,0,0,1,0,1,0,0],\n",
    " [0,1,0,0,1,1,0,0,1,1,1,0,0],\n",
    " [0,0,0,0,0,0,0,0,0,0,1,0,0],\n",
    " [0,0,0,0,0,0,0,1,1,1,0,0,0],\n",
    " [0,0,0,0,0,0,0,1,1,0,0,0,0]]\n",
    "\n",
    "obj = Solution()\n",
    "area = obj.max_area_of_island(grid)\n",
    "print(area)"
   ]
  },
  {
   "cell_type": "markdown",
   "metadata": {},
   "source": [
    "Complexity Analysis\n",
    "\n",
    "Time Complexity: O(R∗C), where R is the number of rows in the given grid, and C is the number of columns. We visit every square once.\n",
    "\n",
    "Space complexity: O(R∗C), The space used by the call stack during our recursion."
   ]
  }
 ],
 "metadata": {
  "kernelspec": {
   "display_name": "Python [conda env:py35]",
   "language": "python",
   "name": "conda-env-py35-py"
  },
  "language_info": {
   "codemirror_mode": {
    "name": "ipython",
    "version": 3
   },
   "file_extension": ".py",
   "mimetype": "text/x-python",
   "name": "python",
   "nbconvert_exporter": "python",
   "pygments_lexer": "ipython3",
   "version": "3.5.2"
  }
 },
 "nbformat": 4,
 "nbformat_minor": 1
}
