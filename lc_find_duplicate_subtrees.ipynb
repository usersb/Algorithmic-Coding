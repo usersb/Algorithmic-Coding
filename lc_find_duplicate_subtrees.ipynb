{
 "cells": [
  {
   "cell_type": "markdown",
   "metadata": {},
   "source": [
    "Depth First Search - \n",
    "Intuition\n",
    "\n",
    "We can serialize each subtree. For example, the tree\n",
    "\n",
    "   1\n",
    "  / \\\n",
    " 2   3\n",
    "    / \\\n",
    "   4   5\n",
    "can be represented as the serialization 1,2,#,#,3,4,#,#,5,#,#, which is a unique representation of the tree.\n",
    "\n",
    "Algorithm\n",
    "\n",
    "Perform a depth-first search, where the recursive function returns the serialization of the tree. \n",
    "At each node, record the result in a map, and analyze the map after to determine duplicate subtrees.\n",
    "\n",
    "Complexity Analysis\n",
    "\n",
    "Time Complexity: O(N^2), where N is the number of nodes in the tree. We visit each node once, but each creation of serial may take O(N) work.\n",
    "\n",
    "Space Complexity: O(N^2), the size of count."
   ]
  },
  {
   "cell_type": "code",
   "execution_count": 2,
   "metadata": {
    "collapsed": false
   },
   "outputs": [],
   "source": [
    "#Depth First Search sol\n",
    "class Solution(object):\n",
    "    def find_duplicate_subtrees(self,root):\n",
    "        count = collections.Counter()\n",
    "        ans = []\n",
    "         \n",
    "        def collect(node):\n",
    "            if not node: return \"#\"\n",
    "        \n",
    "            serial = \"{},{},{}\".format(node.val, collect(node.left), collect(node.right))\n",
    "            count[serial] += 1\n",
    "            if count[serial] == 2:\n",
    "                ans.append(node)\n",
    "            return serial\n",
    "        \n",
    "        collect(root)\n",
    "        return ans"
   ]
  },
  {
   "cell_type": "markdown",
   "metadata": {},
   "source": [
    "Unique Identifier sol\n",
    "Intuition\n",
    "\n",
    "Suppose we have a unique identifier for subtrees: two subtrees are the same if and only if they have the same id.\n",
    "\n",
    "Then, for a node with left child id of x and right child id of y, (node.val, x, y) uniquely determines the tree.\n",
    "\n",
    "Algorithm\n",
    "\n",
    "If we have seen the triple (node.val, x, y) before, we can use the identifier we've remembered. Otherwise, we'll create a new one.\n",
    "\n",
    "\n",
    "Complexity Analysis\n",
    "\n",
    "Time Complexity: O(N), where N is the number of nodes in the tree. We visit each node once.\n",
    "\n",
    "Space Complexity: O(N). Every structure we use is using O(1) storage per node."
   ]
  },
  {
   "cell_type": "code",
   "execution_count": 3,
   "metadata": {
    "collapsed": true
   },
   "outputs": [],
   "source": [
    "class Solution(object):\n",
    "    \n",
    "    def find_duplicate_subtrees(self,root):\n",
    "        trees = collections.defaultdict()\n",
    "        trees.default_factory = trees.__len__\n",
    "        count = collections.Counter()\n",
    "        ans = []\n",
    "        \n",
    "        def lookup(node):\n",
    "            if node:\n",
    "                uid = trees[node.val,lookup(node.left),lookup(node.right)]\n",
    "                count[uid] += 1\n",
    "                if count[uid] == 2:\n",
    "                    ans.append(node)\n",
    "                return uid\n",
    "        lookup(root)\n",
    "        return ans"
   ]
  },
  {
   "cell_type": "code",
   "execution_count": null,
   "metadata": {
    "collapsed": true
   },
   "outputs": [],
   "source": []
  }
 ],
 "metadata": {
  "kernelspec": {
   "display_name": "Python [conda env:py35]",
   "language": "python",
   "name": "conda-env-py35-py"
  },
  "language_info": {
   "codemirror_mode": {
    "name": "ipython",
    "version": 3
   },
   "file_extension": ".py",
   "mimetype": "text/x-python",
   "name": "python",
   "nbconvert_exporter": "python",
   "pygments_lexer": "ipython3",
   "version": "3.5.2"
  }
 },
 "nbformat": 4,
 "nbformat_minor": 1
}
