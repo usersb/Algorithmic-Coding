{
 "cells": [
  {
   "cell_type": "code",
   "execution_count": 2,
   "metadata": {
    "collapsed": true
   },
   "outputs": [],
   "source": [
    "from operator import itemgetter"
   ]
  },
  {
   "cell_type": "code",
   "execution_count": 82,
   "metadata": {
    "collapsed": true
   },
   "outputs": [],
   "source": [
    "#test case 1\n",
    "#ip_list = [(0, 1), (3, 5), (4, 8), (10, 12), (9, 10)]\n",
    "\n",
    "#function should return\n",
    "#[(0, 1), (3, 8), (9, 12)]\n",
    "\n",
    "#test case 2\n",
    "#ip_list = [(1,2),(2,3)]\n",
    "\n",
    "#function should return\n",
    "#[(1,3)]\n",
    "\n",
    "#test case 3\n",
    "#ip_list = [(1, 5), (2, 3)]\n",
    "\n",
    "#function should return\n",
    "#[(1,5)]\n",
    "\n",
    "#test case 4\n",
    "#ip_list = [(1, 10), (2, 6), (3, 5), (7, 9)]\n",
    "\n",
    "#function should return\n",
    "#[(1,10)]\n",
    "\n",
    "ip_list = [(1, 10), (2, 9)]"
   ]
  },
  {
   "cell_type": "code",
   "execution_count": 83,
   "metadata": {
    "collapsed": false
   },
   "outputs": [
    {
     "name": "stdout",
     "output_type": "stream",
     "text": [
      "[(1, 10), (2, 9)]\n"
     ]
    }
   ],
   "source": [
    "ip_list.sort(key = itemgetter(0))\n",
    "print(ip_list)"
   ]
  },
  {
   "cell_type": "code",
   "execution_count": 84,
   "metadata": {
    "collapsed": false
   },
   "outputs": [
    {
     "name": "stdout",
     "output_type": "stream",
     "text": [
      "x1: 1\n",
      "x2: 10\n",
      "y1: 2\n",
      "y2: 9\n",
      "1 10\n",
      "x1: 2\n",
      "x2: 9\n",
      "y1: 2\n",
      "y2: 9\n",
      "[(1, 10)]\n",
      "[(1, 10), (2, 6), (3, 9)]\n"
     ]
    }
   ],
   "source": [
    "\n",
    "def condense(ip_list):\n",
    "    \n",
    "    printed_y2 = None\n",
    "    print_list = []\n",
    "\n",
    "    for index, value in enumerate(ip_list):\n",
    "        x1 = ip_list[index][0]\n",
    "        x2 = ip_list[index][1]\n",
    "    \n",
    "        if printed_y2 == x2:\n",
    "            continue\n",
    "        if (index+1 < len(ip_list)):\n",
    "            y1 = ip_list[index+1][0]\n",
    "            y2 = ip_list[index+1][1]\n",
    "        print(\"x1: %d\" %x1)\n",
    "        print(\"x2: %d\" %x2)\n",
    "        print(\"y1: %d\" %y1)\n",
    "        print(\"y2: %d\" %y2)\n",
    "    \n",
    "        if (x1<y1<=x2<y2): #partial overlap\n",
    "            print(x1,y2)\n",
    "            printed_y2 = y2\n",
    "            print_list.append((x1,y2))\n",
    "            continue\n",
    "        elif (x1<y1<y2<x2):\n",
    "            print(x1,x2)\n",
    "            print_list.append((x1,x2))\n",
    "            continue\n",
    "        elif (x1<x2<y1<y2):\n",
    "            print(x1,y2)\n",
    "            print_list.append((x1,y2))\n",
    "            continue\n",
    "        print(print_list)\n",
    "    \n",
    "    return(print_list)\n",
    "\n",
    "#perform recursion on condense function with each new printed_list\n",
    "#what should be the stopping condition?\n",
    "\n",
    "printed_list = condense(ip_list)\n",
    "print(print_list)\n",
    "#condense(print_list)"
   ]
  },
  {
   "cell_type": "code",
   "execution_count": null,
   "metadata": {
    "collapsed": true
   },
   "outputs": [],
   "source": []
  }
 ],
 "metadata": {
  "anaconda-cloud": {},
  "kernelspec": {
   "display_name": "Python [conda env:py35]",
   "language": "python",
   "name": "conda-env-py35-py"
  },
  "language_info": {
   "codemirror_mode": {
    "name": "ipython",
    "version": 3
   },
   "file_extension": ".py",
   "mimetype": "text/x-python",
   "name": "python",
   "nbconvert_exporter": "python",
   "pygments_lexer": "ipython3",
   "version": "3.5.2"
  }
 },
 "nbformat": 4,
 "nbformat_minor": 1
}
