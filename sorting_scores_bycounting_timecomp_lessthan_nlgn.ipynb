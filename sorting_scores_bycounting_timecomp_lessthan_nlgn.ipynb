{
 "cells": [
  {
   "cell_type": "code",
   "execution_count": 31,
   "metadata": {
    "collapsed": false
   },
   "outputs": [],
   "source": [
    "#using counting sort which has time complexity O(n) and space complexity O(n)\n",
    "\n",
    "def sort_scores(unsorted_scores, highest_possible_score):\n",
    "    # List of 0s at indices 0..highest_possible_score\n",
    "    score_counts = [0] * (highest_possible_score+1)\n",
    "\n",
    "    # Populate score_counts\n",
    "    for score in unsorted_scores:\n",
    "        score_counts[score] += 1\n",
    "    #print(score_counts)\n",
    "    # Populate the final sorted list\n",
    "    sorted_scores = []\n",
    "\n",
    "    # For each item in score_counts\n",
    "    for score in range(len(score_counts) - 1, -1, -1):\n",
    "        count = score_counts[score]\n",
    "    \n",
    "        #print(count)\n",
    "        # For the number of times the item occurs\n",
    "        for time in range(count):\n",
    "            # Add it to the sorted list\n",
    "            sorted_scores.append(score)\n",
    "    \n",
    "    return sorted_scores"
   ]
  },
  {
   "cell_type": "code",
   "execution_count": 32,
   "metadata": {
    "collapsed": false
   },
   "outputs": [
    {
     "data": {
      "text/plain": [
       "[91, 89, 65, 53, 41, 37]"
      ]
     },
     "execution_count": 32,
     "metadata": {},
     "output_type": "execute_result"
    }
   ],
   "source": [
    "unsorted_scores = [37, 89, 41, 65, 91, 53]\n",
    "highest_possible_score = 100\n",
    "\n",
    "ans = sort_scores(unsorted_scores,highest_possible_score)\n",
    "ans"
   ]
  },
  {
   "cell_type": "code",
   "execution_count": null,
   "metadata": {
    "collapsed": true
   },
   "outputs": [],
   "source": []
  }
 ],
 "metadata": {
  "anaconda-cloud": {},
  "kernelspec": {
   "display_name": "Python [conda env:py35]",
   "language": "python",
   "name": "conda-env-py35-py"
  },
  "language_info": {
   "codemirror_mode": {
    "name": "ipython",
    "version": 3
   },
   "file_extension": ".py",
   "mimetype": "text/x-python",
   "name": "python",
   "nbconvert_exporter": "python",
   "pygments_lexer": "ipython3",
   "version": "3.5.2"
  }
 },
 "nbformat": 4,
 "nbformat_minor": 1
}
