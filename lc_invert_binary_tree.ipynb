{
 "cells": [
  {
   "cell_type": "code",
   "execution_count": 4,
   "metadata": {
    "collapsed": false
   },
   "outputs": [],
   "source": [
    "#Definition of TreeNode class\n",
    "# class TreeNode(object):\n",
    "    \n",
    "#     def __init__(self,x): \n",
    "#         self.val = x\n",
    "#         self.right = None\n",
    "#         self.left = None\n",
    "    \n",
    "class Solution(object):\n",
    "    \n",
    "    def invert_tree(self,root):\n",
    "        \"\"\"\n",
    "        :type root : TreeNode\n",
    "        :rtype : TreeNode\n",
    "        \"\"\"\n",
    "        \n",
    "        if root == None:\n",
    "            return None\n",
    "        \n",
    "        root.left,root.right = root.right,root.left\n",
    "        \n",
    "        self.invert_tree(root.right)\n",
    "        self.invert_tree(root.left)\n",
    "        \n",
    "        \n",
    "        return root"
   ]
  },
  {
   "cell_type": "code",
   "execution_count": null,
   "metadata": {
    "collapsed": true
   },
   "outputs": [],
   "source": [
    "     4\n",
    "   /   \\\n",
    "  2     7\n",
    " / \\   / \\\n",
    "1   3 6   9"
   ]
  }
 ],
 "metadata": {
  "kernelspec": {
   "display_name": "Python [conda env:py35]",
   "language": "python",
   "name": "conda-env-py35-py"
  },
  "language_info": {
   "codemirror_mode": {
    "name": "ipython",
    "version": 3
   },
   "file_extension": ".py",
   "mimetype": "text/x-python",
   "name": "python",
   "nbconvert_exporter": "python",
   "pygments_lexer": "ipython3",
   "version": "3.5.2"
  }
 },
 "nbformat": 4,
 "nbformat_minor": 1
}
