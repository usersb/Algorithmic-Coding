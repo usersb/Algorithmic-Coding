{
 "cells": [
  {
   "cell_type": "code",
   "execution_count": 65,
   "metadata": {
    "collapsed": false
   },
   "outputs": [
    {
     "name": "stdout",
     "output_type": "stream",
     "text": [
      "['c', 'a', 'k', 'e', ' ', 'p', 'o', 'u', 'n', 'd', ' ', 's', 't', 'e', 'a', 'l']\n"
     ]
    }
   ],
   "source": [
    "ip_list = ['c','a','k','e',' ','p','o','u','n','d',' ','s','t','e','a','l']\n",
    "\n",
    "print(ip_list)"
   ]
  },
  {
   "cell_type": "code",
   "execution_count": 10,
   "metadata": {
    "collapsed": false
   },
   "outputs": [],
   "source": [
    "# ip_list[::-1]"
   ]
  },
  {
   "cell_type": "code",
   "execution_count": 62,
   "metadata": {
    "collapsed": true
   },
   "outputs": [],
   "source": [
    "def rev_list(ip_list,start_index,end_index):\n",
    "            \n",
    "     while start_index < end_index:\n",
    "        # Swap the left char and right char\n",
    "        ip_list[start_index], ip_list[end_index] = ip_list[end_index], ip_list[start_index]\n",
    "        start_index  += 1\n",
    "        end_index -= 1\n",
    "        "
   ]
  },
  {
   "cell_type": "code",
   "execution_count": 63,
   "metadata": {
    "collapsed": false
   },
   "outputs": [],
   "source": [
    "\n",
    "def rev_words_in_list(ip_list):\n",
    "    \n",
    "    rev_list(ip_list,0,len(ip_list)-1)\n",
    "    print(ip_list)\n",
    "    \n",
    "    current_word_start_index = 0\n",
    "    for i in range(len(ip_list)+1):\n",
    "        if ((i == len(ip_list)) or (ip_list[i] == ' ')):\n",
    "            rev_list(ip_list,current_word_start_index,i-1)\n",
    "            current_word_start_index = i + 1\n",
    "    return(ip_list)\n",
    "    "
   ]
  },
  {
   "cell_type": "code",
   "execution_count": 66,
   "metadata": {
    "collapsed": false
   },
   "outputs": [
    {
     "name": "stdout",
     "output_type": "stream",
     "text": [
      "['l', 'a', 'e', 't', 's', ' ', 'd', 'n', 'u', 'o', 'p', ' ', 'e', 'k', 'a', 'c']\n",
      "['s', 't', 'e', 'a', 'l', ' ', 'p', 'o', 'u', 'n', 'd', ' ', 'c', 'a', 'k', 'e']\n"
     ]
    }
   ],
   "source": [
    "print(rev_words_in_list(ip_list))"
   ]
  },
  {
   "cell_type": "code",
   "execution_count": null,
   "metadata": {
    "collapsed": true
   },
   "outputs": [],
   "source": []
  }
 ],
 "metadata": {
  "anaconda-cloud": {},
  "kernelspec": {
   "display_name": "Python [conda env:py35]",
   "language": "python",
   "name": "conda-env-py35-py"
  },
  "language_info": {
   "codemirror_mode": {
    "name": "ipython",
    "version": 3
   },
   "file_extension": ".py",
   "mimetype": "text/x-python",
   "name": "python",
   "nbconvert_exporter": "python",
   "pygments_lexer": "ipython3",
   "version": "3.5.2"
  }
 },
 "nbformat": 4,
 "nbformat_minor": 1
}
