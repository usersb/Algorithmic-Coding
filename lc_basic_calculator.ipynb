{
 "cells": [
  {
   "cell_type": "code",
   "execution_count": 26,
   "metadata": {
    "collapsed": false
   },
   "outputs": [],
   "source": [
    "class Solution:\n",
    "    def calculate(self, s):\n",
    "        num, stack, sign = 0, [], \"+\"\n",
    "        for i in range(len(s)):\n",
    "            if s[i].isdigit():\n",
    "                num = num * 10 + int(s[i])\n",
    "                print('num:%d' %num)\n",
    "            if s[i] in \"+-*/\" or i == len(s) - 1:\n",
    "                if sign == \"+\":\n",
    "                    stack.append(num)\n",
    "                elif sign == \"-\":\n",
    "                    stack.append(-num)\n",
    "                elif sign == \"*\":\n",
    "                    stack.append(stack.pop()*num)\n",
    "                else:\n",
    "                    stack.append(int(stack.pop()/num))\n",
    "                print(stack)\n",
    "                num = 0\n",
    "                sign = s[i]\n",
    "        return sum(stack)"
   ]
  },
  {
   "cell_type": "code",
   "execution_count": 27,
   "metadata": {
    "collapsed": false
   },
   "outputs": [
    {
     "name": "stdout",
     "output_type": "stream",
     "text": [
      "num:3\n",
      "[3]\n",
      "num:2\n",
      "[3, 2]\n",
      "num:2\n",
      "[3, 4]\n",
      "7\n"
     ]
    }
   ],
   "source": [
    "s = \"3+2*2\"\n",
    "obj = Solution()\n",
    "result = obj.calculate(s)\n",
    "print(result)"
   ]
  },
  {
   "cell_type": "code",
   "execution_count": 11,
   "metadata": {
    "collapsed": false
   },
   "outputs": [
    {
     "name": "stdout",
     "output_type": "stream",
     "text": [
      "num:3\n",
      "[3]\n",
      "num:2\n",
      "[1]\n",
      "1\n"
     ]
    }
   ],
   "source": [
    "s = \"3/2\"\n",
    "obj = Solution()\n",
    "result = obj.calculate(s)\n",
    "print(result)"
   ]
  },
  {
   "cell_type": "code",
   "execution_count": 12,
   "metadata": {
    "collapsed": false
   },
   "outputs": [
    {
     "name": "stdout",
     "output_type": "stream",
     "text": [
      "num:3\n",
      "[3]\n",
      "num:5\n",
      "[3, 5]\n",
      "num:2\n",
      "[3, 2]\n",
      "5\n"
     ]
    }
   ],
   "source": [
    "s= \" 3+5 / 2 \"\n",
    "obj = Solution()\n",
    "result = obj.calculate(s)\n",
    "print(result)"
   ]
  }
 ],
 "metadata": {
  "kernelspec": {
   "display_name": "Python [conda env:py35]",
   "language": "python",
   "name": "conda-env-py35-py"
  },
  "language_info": {
   "codemirror_mode": {
    "name": "ipython",
    "version": 3
   },
   "file_extension": ".py",
   "mimetype": "text/x-python",
   "name": "python",
   "nbconvert_exporter": "python",
   "pygments_lexer": "ipython3",
   "version": "3.5.2"
  }
 },
 "nbformat": 4,
 "nbformat_minor": 1
}
