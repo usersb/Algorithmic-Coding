{
 "cells": [
  {
   "cell_type": "code",
   "execution_count": 62,
   "metadata": {
    "collapsed": true
   },
   "outputs": [],
   "source": [
    "# my_list = [3,4,6,10,11,15,20,22]\n",
    "# a_list = [1,5,8,12,14,19,21]\n",
    "\n",
    "# my_list = [3]\n",
    "# a_list = [1]\n",
    "\n",
    "my_list = []\n",
    "a_list = []"
   ]
  },
  {
   "cell_type": "code",
   "execution_count": 63,
   "metadata": {
    "collapsed": false
   },
   "outputs": [
    {
     "name": "stdout",
     "output_type": "stream",
     "text": [
      "[]\n"
     ]
    }
   ],
   "source": [
    "f_list = []\n",
    "i = 0\n",
    "j = 0\n",
    "\n",
    "my_list_len = len(my_list)-1\n",
    "a_list_len = len(a_list)-1\n",
    "\n",
    "while i <= my_list_len and j <= a_list_len:\n",
    "        \n",
    "        if min(my_list[i],a_list[j]) == a_list[j]:\n",
    "            f_list.append(a_list[j])\n",
    "            j=j+1\n",
    "        else:\n",
    "            f_list.append(my_list[i])\n",
    "            i=i+1\n",
    "                \n",
    "while j <= a_list_len:\n",
    "    f_list.append(a_list[j])\n",
    "    j=j+1\n",
    "\n",
    "while i <= my_list_len:\n",
    "    f_list.append(my_list[i])\n",
    "    i=i+1\n",
    "\n",
    "print(f_list) \n",
    "\n",
    "\n",
    "        \n",
    "#         print(\"i = %d\" %i)\n",
    "#         print(\"j = %d\" %j)\n",
    "        \n",
    "#         print(\"my_list[i] = %d\" %my_list[i])\n",
    "#         print(\"a_list[i] = %d\" %a_list[j])"
   ]
  },
  {
   "cell_type": "code",
   "execution_count": null,
   "metadata": {
    "collapsed": true
   },
   "outputs": [],
   "source": []
  }
 ],
 "metadata": {
  "anaconda-cloud": {},
  "kernelspec": {
   "display_name": "Python [conda env:py35]",
   "language": "python",
   "name": "conda-env-py35-py"
  },
  "language_info": {
   "codemirror_mode": {
    "name": "ipython",
    "version": 3
   },
   "file_extension": ".py",
   "mimetype": "text/x-python",
   "name": "python",
   "nbconvert_exporter": "python",
   "pygments_lexer": "ipython3",
   "version": "3.5.2"
  }
 },
 "nbformat": 4,
 "nbformat_minor": 1
}
