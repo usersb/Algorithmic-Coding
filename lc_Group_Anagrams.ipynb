{
 "cells": [
  {
   "cell_type": "markdown",
   "metadata": {},
   "source": [
    "Given an array of strings, group anagrams together.\n",
    "\n",
    "Example:\n",
    "\n",
    "Input: [\"eat\", \"tea\", \"tan\", \"ate\", \"nat\", \"bat\"],\n",
    "Output:\n",
    "[\n",
    "  [\"ate\",\"eat\",\"tea\"],\n",
    "  [\"nat\",\"tan\"],\n",
    "  [\"bat\"]\n",
    "]\n",
    "Note: All inputs will be in lowercase.\n",
    "The order of your output does not matter."
   ]
  },
  {
   "cell_type": "code",
   "execution_count": 2,
   "metadata": {
    "collapsed": true
   },
   "outputs": [],
   "source": [
    "import collections"
   ]
  },
  {
   "cell_type": "code",
   "execution_count": 12,
   "metadata": {
    "collapsed": false
   },
   "outputs": [
    {
     "name": "stdout",
     "output_type": "stream",
     "text": [
      "dict_values([['tan', 'nat'], ['bat'], ['eat', 'tea', 'ate']])\n"
     ]
    }
   ],
   "source": [
    "#1. Analyze by sorted string - two strings are anagrams iff their sorted versions are equal\n",
    "\n",
    "#time complexity O(Nklogk) solution SPace complexity O(Nk)\n",
    "input_string = [\"eat\", \"tea\", \"tan\", \"ate\", \"nat\", \"bat\"]\n",
    "anagram_dict = collections.defaultdict(list)\n",
    "\n",
    "for word in input_string:\n",
    "    anagram_dict[tuple(sorted(word))].append(word)\n",
    "    \n",
    "print(anagram_dict.values())"
   ]
  },
  {
   "cell_type": "markdown",
   "metadata": {},
   "source": [
    "Complexity Analysis\n",
    "\n",
    "Time Complexity: \n",
    "O\n",
    "N\n",
    "K\n",
    "log\n",
    "K\n",
    "O(NKlogK), where \n",
    "N\n",
    "N is the length of strs, and \n",
    "K\n",
    "K is the maximum length of a string in strs. The outer loop has complexity \n",
    "O\n",
    "N\n",
    "O(N) as we iterate through each string. Then, we sort each string in \n",
    "O\n",
    "K\n",
    "log\n",
    "K\n",
    "O(KlogK) time.\n",
    "\n",
    "Space Complexity: \n",
    "O\n",
    "N\n",
    "K\n",
    "O(NK), the total information content stored in ans."
   ]
  },
  {
   "cell_type": "code",
   "execution_count": 16,
   "metadata": {
    "collapsed": false
   },
   "outputs": [
    {
     "name": "stdout",
     "output_type": "stream",
     "text": [
      "dict_values([['abbccc'], ['aab', 'aba', 'baa']])\n"
     ]
    }
   ],
   "source": [
    "#2. Analyze by character count - Two strings are anagrams iff their character counts \n",
    "#(respective number of occurances of each character) are equal\n",
    "\n",
    "strs = ['aab','aba','baa','abbccc']\n",
    "\n",
    "ans = collections.defaultdict(list)\n",
    "for word in strs:\n",
    "    count_list = [0] * 26\n",
    "    \n",
    "    for char in word:\n",
    "        count_list[ord(char) - ord('a')] += 1\n",
    "    ans[tuple(count_list)].append(word)\n",
    "    \n",
    "print(ans.values())"
   ]
  },
  {
   "cell_type": "markdown",
   "metadata": {},
   "source": [
    "Complexity Analysis\n",
    "\n",
    "Time Complexity: \n",
    "O\n",
    "N\n",
    "K\n",
    "O(NK), where \n",
    "N\n",
    "N is the length of strs, and \n",
    "K\n",
    "K is the maximum length of a string in strs. Counting each string is linear in the size of the string, and we count every string.\n",
    "\n",
    "Space Complexity: \n",
    "O\n",
    "N\n",
    "K\n",
    "O(NK), the total information content stored in ans."
   ]
  }
 ],
 "metadata": {
  "anaconda-cloud": {},
  "kernelspec": {
   "display_name": "Python [conda env:py35]",
   "language": "python",
   "name": "conda-env-py35-py"
  },
  "language_info": {
   "codemirror_mode": {
    "name": "ipython",
    "version": 3
   },
   "file_extension": ".py",
   "mimetype": "text/x-python",
   "name": "python",
   "nbconvert_exporter": "python",
   "pygments_lexer": "ipython3",
   "version": "3.5.2"
  }
 },
 "nbformat": 4,
 "nbformat_minor": 1
}
