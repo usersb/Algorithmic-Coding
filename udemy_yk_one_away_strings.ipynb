{
 "cells": [
  {
   "cell_type": "code",
   "execution_count": 3,
   "metadata": {
    "collapsed": true
   },
   "outputs": [],
   "source": [
    "def is_one_away_same_lengths(s1,s2):\n",
    "    count_diff = 0\n",
    "    for i in range(len(s1)):\n",
    "        if s1[i] != s2[i]:\n",
    "            count_diff += 1\n",
    "            if count_diff > 1:\n",
    "                return False\n",
    "    return True"
   ]
  },
  {
   "cell_type": "code",
   "execution_count": 4,
   "metadata": {
    "collapsed": true
   },
   "outputs": [],
   "source": [
    "def is_one_away_diff_lengths(s1,s2):\n",
    "    i = 0 #keep count of which index we are tracking currently\n",
    "    count_diff = 0 #count the number of characters that don't match each other that we've seen so far\n",
    "    \n",
    "    #s1 = 'abcde'\n",
    "    #s2 = 'abde'\n",
    "    \n",
    "    while i < len(s2): #pointer in s2 is not beyond the string end\n",
    "        if s1[i+count_diff] == s2[i]:\n",
    "            i+= 1\n",
    "        else:\n",
    "            count_diff += 1 #keep track of the diff char 'c' seen once\n",
    "            if count_diff > 1:\n",
    "                return False\n",
    "    return True"
   ]
  },
  {
   "cell_type": "code",
   "execution_count": 6,
   "metadata": {
    "collapsed": false
   },
   "outputs": [],
   "source": [
    "def is_one_away(s1,s2):\n",
    "    #lengths of s1 and s2 are 2 chars away from each other\n",
    "    if len(s1) - len(s2) >= 2 or len(s2) - len(s1) >= 2:\n",
    "        return False\n",
    "    \n",
    "    #s1 and s2 are same lengths\n",
    "    if len(s1) == len(s2):\n",
    "        return is_one_away_same_lengths(s1,s2) \n",
    "    \n",
    "    #s1 and s2 are diff lengths and len(s1) > len(s2) or len(s2) > len(s1)\n",
    "    #Assumption - when s1 has one more character than s2 or len(s1) = len(s2) + 1 or vice versa\n",
    "    if len(s1) > len(s2):\n",
    "        return is_one_away_diff_lengths(s1,s2)\n",
    "    elif len(s2) > len(s1):\n",
    "        return is_one_away_diff_lengths(s2,s1)"
   ]
  },
  {
   "cell_type": "code",
   "execution_count": 11,
   "metadata": {
    "collapsed": false
   },
   "outputs": [
    {
     "data": {
      "text/plain": [
       "True"
      ]
     },
     "execution_count": 11,
     "metadata": {},
     "output_type": "execute_result"
    }
   ],
   "source": [
    "#NOTE: The following input values will be used for testing your solution.\n",
    "#is_one_away(\"abcde\", \"abcd\")  # should return True\n",
    "#is_one_away(\"abde\", \"abcde\")  # should return True\n",
    "is_one_away(\"a\", \"a\")  # should return True\n",
    "# is_one_away(\"abcdef\", \"abqdef\")  # should return True\n",
    "# is_one_away(\"abcdef\", \"abccef\")  # should return True\n",
    "# is_one_away(\"abcdef\", \"abcde\")  # should return True\n",
    "# is_one_away(\"aaa\", \"abc\")  # should return False\n",
    "# is_one_away(\"abcde\", \"abc\")  # should return False\n",
    "# is_one_away(\"abc\", \"abcde\")  # should return False\n",
    "# is_one_away(\"abc\", \"bcc\")  # should return False"
   ]
  },
  {
   "cell_type": "code",
   "execution_count": null,
   "metadata": {
    "collapsed": true
   },
   "outputs": [],
   "source": []
  }
 ],
 "metadata": {
  "kernelspec": {
   "display_name": "Python [conda env:py35]",
   "language": "python",
   "name": "conda-env-py35-py"
  },
  "language_info": {
   "codemirror_mode": {
    "name": "ipython",
    "version": 3
   },
   "file_extension": ".py",
   "mimetype": "text/x-python",
   "name": "python",
   "nbconvert_exporter": "python",
   "pygments_lexer": "ipython3",
   "version": "3.5.2"
  }
 },
 "nbformat": 4,
 "nbformat_minor": 1
}
