{
 "cells": [
  {
   "cell_type": "code",
   "execution_count": 2,
   "metadata": {
    "collapsed": false
   },
   "outputs": [],
   "source": [
    "from operator import itemgetter    "
   ]
  },
  {
   "cell_type": "code",
   "execution_count": 141,
   "metadata": {
    "collapsed": false
   },
   "outputs": [],
   "source": [
    "def merge_ranges(ranges):\n",
    "    \n",
    "    #sort the list of tuples by first element of the tuple\n",
    "    \n",
    "    sorted_meetings = sorted(ranges,key=itemgetter(0)) # O(nlgn)\n",
    "\n",
    "    #compare first two tuples. if the first item of second tuple is less than or equal to the second item of first tuple,\n",
    "    #then the tuples can be merged by the setting the first item of tuple 1 as the lower bound and max(second item of tuple1 and tuple 2\n",
    "    #as the upper bound)\n",
    "    \n",
    "    #initialize the merged_meetings array with the first item from sorted_meetings\n",
    "    merged_meetings = [sorted_meetings[0]]\n",
    "    \n",
    "    for current_meeting_start, current_meeting_end in sorted_meetings[1:]:\n",
    "        last_merged_meeting_start, last_merged_meeting_end = merged_meetings[-1]\n",
    "        \n",
    "        #If current meeting from sorted_meetings overlaps with last merged meeting from marged_meetings, then\n",
    "        #we use the later end time of the two\n",
    "        if (current_meeting_start <= last_merged_meeting_end):\n",
    "            merged_meeting[-1] = (last_merged_meeting_start, max(current_meeting_end, last_merged_meeting_end))\n",
    "            \n",
    "        else: \n",
    "            #add the current meeting to merged_meetings as is, since it doesn't overlap\n",
    "            merged_meetings.append(current_meeting_start, current_meeting_end)\n",
    "            \n",
    "        \n",
    "    return(merged_meetings)\n",
    "        \n",
    "        \n",
    "        "
   ]
  },
  {
   "cell_type": "code",
   "execution_count": 135,
   "metadata": {
    "collapsed": false
   },
   "outputs": [
    {
     "name": "stdout",
     "output_type": "stream",
     "text": [
      "[(1, 4)]\n"
     ]
    }
   ],
   "source": [
    "ranges = [(1, 3), (2, 4)]\n",
    "result = merge_ranges(ranges)\n",
    "print(result)"
   ]
  },
  {
   "cell_type": "code",
   "execution_count": 137,
   "metadata": {
    "collapsed": false
   },
   "outputs": [
    {
     "name": "stdout",
     "output_type": "stream",
     "text": [
      "[(1, 5)]\n"
     ]
    }
   ],
   "source": [
    "ranges = [(1, 5), (2, 3)]\n",
    "result = merge_ranges(ranges)\n",
    "print(result)"
   ]
  },
  {
   "cell_type": "code",
   "execution_count": 138,
   "metadata": {
    "collapsed": false
   },
   "outputs": [
    {
     "name": "stdout",
     "output_type": "stream",
     "text": [
      "[(1, 3)]\n"
     ]
    }
   ],
   "source": [
    "ranges =  [(1, 2), (2, 3)]\n",
    "result = merge_ranges(ranges)\n",
    "print(result)"
   ]
  },
  {
   "cell_type": "code",
   "execution_count": 139,
   "metadata": {
    "collapsed": false
   },
   "outputs": [
    {
     "name": "stdout",
     "output_type": "stream",
     "text": [
      "[(1, 10)]\n"
     ]
    }
   ],
   "source": [
    "ranges = [(1, 10), (2, 6), (3, 5), (7, 9)]\n",
    "result = merge_ranges(ranges)\n",
    "print(result)"
   ]
  },
  {
   "cell_type": "code",
   "execution_count": 142,
   "metadata": {
    "collapsed": false
   },
   "outputs": [
    {
     "name": "stdout",
     "output_type": "stream",
     "text": [
      "[(0, 1), (3, 8), (9, 12)]\n"
     ]
    }
   ],
   "source": [
    "ranges = [(0, 1), (3, 5), (4, 8), (10, 12), (9, 10)]\n",
    "result = merge_ranges(ranges)\n",
    "print(result)"
   ]
  },
  {
   "cell_type": "markdown",
   "metadata": {},
   "source": [
    "Complexity\n",
    "O(nlgn) time and O(n) space.\n",
    "\n",
    "Even though we only walk through our list of meetings once to merge them, we sort all the meetings first, giving us a runtime of O(nlgn). It's worth noting that if our input were sorted, we could skip the sort and do this in O(n) time!\n",
    "\n",
    "We create a new list of merged meeting times. In the worst case, none of the meetings overlap, giving us a list identical to the input list. Thus we have a worst-case space cost of O(n)."
   ]
  },
  {
   "cell_type": "markdown",
   "metadata": {},
   "source": [
    "**Merge_Intervals test cases from leet code**"
   ]
  },
  {
   "cell_type": "code",
   "execution_count": 143,
   "metadata": {
    "collapsed": false
   },
   "outputs": [
    {
     "name": "stdout",
     "output_type": "stream",
     "text": [
      "[(1, 6), (8, 10), (15, 18)]\n"
     ]
    }
   ],
   "source": [
    "ranges = [[1,3],[2,6],[8,10],[15,18]]\n",
    "#Output: [[1,6],[8,10],[15,18]]\n",
    "#Explanation: Since intervals [1,3] and [2,6] overlaps, merge them into [1,6]\n",
    "\n",
    "result = merge_ranges(ranges)\n",
    "print(result)"
   ]
  },
  {
   "cell_type": "code",
   "execution_count": 144,
   "metadata": {
    "collapsed": false
   },
   "outputs": [
    {
     "name": "stdout",
     "output_type": "stream",
     "text": [
      "[(1, 5)]\n"
     ]
    }
   ],
   "source": [
    "\n",
    "ranges = [[1,4],[4,5]]\n",
    "# Output: [[1,5]]\n",
    "# Explanation: Intervals [1,4] and [4,5] are considerred overlapping\n",
    "\n",
    "result = merge_ranges(ranges)\n",
    "print(result)"
   ]
  },
  {
   "cell_type": "markdown",
   "metadata": {},
   "source": [
    "**Min Meeting Rooms II example from leetcode**"
   ]
  },
  {
   "cell_type": "code",
   "execution_count": null,
   "metadata": {
    "collapsed": true
   },
   "outputs": [],
   "source": [
    "Given an array of meeting time intervals consisting of start and end times [[s1,e1],[s2,e2],...] (si < ei), \n",
    "find the minimum number of conference rooms required.\n",
    "\n",
    "Example 1:\n",
    "\n",
    "Input: [[0, 30],[5, 10],[15, 20]]\n",
    "Output: 2\n",
    "Example 2:\n",
    "\n",
    "Input: [[7,10],[2,4]]\n",
    "Output: 1"
   ]
  }
 ],
 "metadata": {
  "anaconda-cloud": {},
  "kernelspec": {
   "display_name": "Python [conda env:py35]",
   "language": "python",
   "name": "conda-env-py35-py"
  },
  "language_info": {
   "codemirror_mode": {
    "name": "ipython",
    "version": 3
   },
   "file_extension": ".py",
   "mimetype": "text/x-python",
   "name": "python",
   "nbconvert_exporter": "python",
   "pygments_lexer": "ipython3",
   "version": "3.5.2"
  }
 },
 "nbformat": 4,
 "nbformat_minor": 1
}
